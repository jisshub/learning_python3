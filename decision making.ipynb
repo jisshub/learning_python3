{
 "cells": [
  {
   "cell_type": "code",
   "execution_count": 2,
   "metadata": {},
   "outputs": [
    {
     "name": "stdout",
     "output_type": "stream",
     "text": [
      "100 is greater\n"
     ]
    }
   ],
   "source": [
    "a=100\n",
    "if a>20:\n",
    "    print(f\"{a} is greater\")\n",
    "else:\n",
    "    print('Not')"
   ]
  },
  {
   "cell_type": "code",
   "execution_count": 4,
   "metadata": {},
   "outputs": [
    {
     "name": "stdout",
     "output_type": "stream",
     "text": [
      "ok\n"
     ]
    }
   ],
   "source": [
    "name='jissmon'\n",
    "if len(name)>5:\n",
    "    print('ok')"
   ]
  },
  {
   "cell_type": "code",
   "execution_count": 6,
   "metadata": {},
   "outputs": [
    {
     "name": "stdout",
     "output_type": "stream",
     "text": [
      "ok\n"
     ]
    }
   ],
   "source": [
    "from random import randint\n",
    "choice=randint(1,3)\n",
    "if choice==3:\n",
    "    print('ok')\n",
    "else:\n",
    "    print('not')"
   ]
  },
  {
   "cell_type": "code",
   "execution_count": 9,
   "metadata": {},
   "outputs": [
    {
     "name": "stdout",
     "output_type": "stream",
     "text": [
      "ok\n"
     ]
    }
   ],
   "source": [
    "a=10\n",
    "if a:\n",
    "    print('ok')"
   ]
  },
  {
   "cell_type": "code",
   "execution_count": 13,
   "metadata": {},
   "outputs": [
    {
     "name": "stdout",
     "output_type": "stream",
     "text": [
      "a is great\n"
     ]
    }
   ],
   "source": [
    "a,b,c=4,7,10\n",
    "if not (a>b and a>c):\n",
    "    print('a is great')\n",
    "elif b>c:\n",
    "    print('b')\n",
    "else:\n",
    "    print('c')"
   ]
  },
  {
   "cell_type": "code",
   "execution_count": 19,
   "metadata": {},
   "outputs": [
    {
     "name": "stdout",
     "output_type": "stream",
     "text": [
      "dress\n"
     ]
    }
   ],
   "source": [
    "from random import choice\n",
    "items=choice(['shirts','pants','shoes','sandals','laptops','phones'])\n",
    "if items=='shirts' or items=='pants':\n",
    "    print('dress')\n",
    "elif items=='shoes' or items=='sandals':\n",
    "    print('leather')\n",
    "elif items=='laptops' or items=='phones':\n",
    "    print('electronics')\n",
    "\n"
   ]
  },
  {
   "cell_type": "code",
   "execution_count": 23,
   "metadata": {},
   "outputs": [
    {
     "name": "stdout",
     "output_type": "stream",
     "text": [
      "not found\n"
     ]
    }
   ],
   "source": [
    "num=300\n",
    "if num>50:\n",
    "    if num==200:\n",
    "        print(num)\n",
    "    elif num==100:\n",
    "        print(num)\n",
    "    elif num==150:\n",
    "        print(num)\n",
    "    else:\n",
    "        print('not found')\n",
    "else:\n",
    "    print('num is small')"
   ]
  },
  {
   "cell_type": "code",
   "execution_count": 27,
   "metadata": {},
   "outputs": [
    {
     "name": "stdout",
     "output_type": "stream",
     "text": [
      "\n",
      "please enter age!\n"
     ]
    }
   ],
   "source": [
    "age=input()\n",
    "if age:\n",
    "    age=int(age)\n",
    "    if age >18 and age<30:\n",
    "        print('o')\n",
    "    elif age >30:\n",
    "        print('b')\n",
    "    else:\n",
    "        print(g)\n",
    "else:\n",
    "    print('please enter age!')"
   ]
  },
  {
   "cell_type": "code",
   "execution_count": null,
   "metadata": {},
   "outputs": [],
   "source": []
  }
 ],
 "metadata": {
  "kernelspec": {
   "display_name": "Python 3",
   "language": "python",
   "name": "python3"
  },
  "language_info": {
   "codemirror_mode": {
    "name": "ipython",
    "version": 3
   },
   "file_extension": ".py",
   "mimetype": "text/x-python",
   "name": "python",
   "nbconvert_exporter": "python",
   "pygments_lexer": "ipython3",
   "version": "3.7.1"
  }
 },
 "nbformat": 4,
 "nbformat_minor": 2
}
