{
 "cells": [
  {
   "cell_type": "code",
   "execution_count": 4,
   "metadata": {},
   "outputs": [
    {
     "name": "stdout",
     "output_type": "stream",
     "text": [
      "unlucky\n"
     ]
    }
   ],
   "source": [
    "# NO TOUCHING PLEASE---------------\n",
    "from random import randint\n",
    "choice = randint(1,10)\n",
    "# NO TOUCHING PLEASE---------------\n",
    "\n",
    "# YOUR CODE GOES HERE:\n",
    "if choice is 7:\n",
    "    print(\"lucky\")\n",
    "else:\n",
    "    print(\"unlucky\")\n",
    "    "
   ]
  },
  {
   "cell_type": "code",
   "execution_count": 6,
   "metadata": {},
   "outputs": [
    {
     "name": "stdout",
     "output_type": "stream",
     "text": [
      "please select your color: hakd\n",
      "hakd not in the criteria\n"
     ]
    }
   ],
   "source": [
    "color=input(\"please select your color: \")\n",
    "if color is 'yellow':\n",
    "    print(color)\n",
    "elif color=='red':\n",
    "    print(color)\n",
    "elif color=='orange':\n",
    "    print(color)\n",
    "else:\n",
    "    print(f\"{color} not in the criteria\")\n"
   ]
  },
  {
   "cell_type": "code",
   "execution_count": 11,
   "metadata": {},
   "outputs": [
    {
     "name": "stdout",
     "output_type": "stream",
     "text": [
      "No Amount\n"
     ]
    }
   ],
   "source": [
    "child_age=6\n",
    "if child_age>2 and child_age<9:\n",
    "    print(\"No Amount\")"
   ]
  },
  {
   "cell_type": "code",
   "execution_count": 14,
   "metadata": {},
   "outputs": [
    {
     "name": "stdout",
     "output_type": "stream",
     "text": [
      "ok\n"
     ]
    }
   ],
   "source": [
    "if child_age>14 or child_age<8:\n",
    "    print(\"ok\")"
   ]
  },
  {
   "cell_type": "code",
   "execution_count": 19,
   "metadata": {},
   "outputs": [
    {
     "name": "stdout",
     "output_type": "stream",
     "text": [
      "Where do u live?: kochi\n",
      "YOU LIVE IN KERALA\n"
     ]
    }
   ],
   "source": [
    "city=input(\"Where do u live?: \")\n",
    "if city == 'kochi' or city == 'thrissur':\n",
    "    print(\"YOU LIVE IN KERALA\")\n",
    "else:\n",
    "    print(\"somewhere else\")"
   ]
  },
  {
   "cell_type": "code",
   "execution_count": 21,
   "metadata": {},
   "outputs": [
    {
     "name": "stdout",
     "output_type": "stream",
     "text": [
      "fruit\n"
     ]
    }
   ],
   "source": [
    "# NO TOUCHING ============================================\n",
    "from random import choice\n",
    "food = choice(['apple','grape', 'bacon', 'steak', 'worm', 'dirt'])\n",
    "# NO TOUCHING =============================================\n",
    "\n",
    "\n",
    "# YOUR CODE GOES HERE vvvvvvvvvvvvvvvvvvvvvvvvvvvvvvv\n",
    "\n",
    "if food=='apple' or food =='grape':\n",
    "    print(\"fruit\")\n",
    "elif food=='bacon' or food=='steak':\n",
    "    print(\"meat\")\n",
    "elif food=='dirt' or food=='worm':\n",
    "    print(\"yuck\")\n",
    "    \n",
    "\n",
    "# YOUR CODE GOES HERE ^^^^^^^^^^^^^^^^^^^^^^^^^^^^^^^^"
   ]
  },
  {
   "cell_type": "markdown",
   "metadata": {},
   "source": [
    "# logical not"
   ]
  },
  {
   "cell_type": "code",
   "execution_count": 38,
   "metadata": {},
   "outputs": [
    {
     "name": "stdout",
     "output_type": "stream",
     "text": [
      "Enter age: 55\n",
      "5 dollar ticket\n"
     ]
    }
   ],
   "source": [
    "age=int(input(\"Enter age: \"))\n",
    "if not((age>=2 and age<=10) or age>=65):\n",
    "    print(\"5 dollar ticket\")\n",
    "else:\n",
    "    print(\"10 dollar ticket\")\n"
   ]
  },
  {
   "cell_type": "code",
   "execution_count": 41,
   "metadata": {},
   "outputs": [
    {
     "name": "stdout",
     "output_type": "stream",
     "text": [
      "Enter age: 66\n",
      "5 dollar ticket\n"
     ]
    }
   ],
   "source": [
    "age=int(input(\"Enter age: \"))\n",
    "if not(age>=2 and age<=65):\n",
    "    print(\"5 dollar ticket\")\n",
    "else:\n",
    "    print(\"10 dollar ticket\")"
   ]
  },
  {
   "cell_type": "code",
   "execution_count": 42,
   "metadata": {},
   "outputs": [
    {
     "data": {
      "text/plain": [
       "False"
      ]
     },
     "execution_count": 42,
     "metadata": {},
     "output_type": "execute_result"
    }
   ],
   "source": [
    "True and False"
   ]
  },
  {
   "cell_type": "code",
   "execution_count": 43,
   "metadata": {},
   "outputs": [
    {
     "data": {
      "text/plain": [
       "True"
      ]
     },
     "execution_count": 43,
     "metadata": {},
     "output_type": "execute_result"
    }
   ],
   "source": [
    "True or False"
   ]
  },
  {
   "cell_type": "code",
   "execution_count": 44,
   "metadata": {},
   "outputs": [
    {
     "data": {
      "text/plain": [
       "True"
      ]
     },
     "execution_count": 44,
     "metadata": {},
     "output_type": "execute_result"
    }
   ],
   "source": [
    "not False"
   ]
  },
  {
   "cell_type": "code",
   "execution_count": 45,
   "metadata": {},
   "outputs": [
    {
     "data": {
      "text/plain": [
       "False"
      ]
     },
     "execution_count": 45,
     "metadata": {},
     "output_type": "execute_result"
    }
   ],
   "source": [
    "a=-1\n",
    "not a"
   ]
  },
  {
   "cell_type": "code",
   "execution_count": null,
   "metadata": {},
   "outputs": [],
   "source": []
  }
 ],
 "metadata": {
  "kernelspec": {
   "display_name": "Python 3",
   "language": "python",
   "name": "python3"
  },
  "language_info": {
   "codemirror_mode": {
    "name": "ipython",
    "version": 3
   },
   "file_extension": ".py",
   "mimetype": "text/x-python",
   "name": "python",
   "nbconvert_exporter": "python",
   "pygments_lexer": "ipython3",
   "version": "3.7.1"
  }
 },
 "nbformat": 4,
 "nbformat_minor": 2
}
