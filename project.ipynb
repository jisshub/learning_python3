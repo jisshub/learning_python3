{
 "cells": [
  {
   "cell_type": "code",
   "execution_count": 3,
   "metadata": {},
   "outputs": [
    {
     "name": "stdout",
     "output_type": "stream",
     "text": [
      "How many kilometer did you run today59\n",
      "Your 59 run was 37mi\n"
     ]
    }
   ],
   "source": [
    "#converting km to miles\n",
    "from decimal import Decimal\n",
    "km_input=int(input(\"How many kilometer did you run today\"))\n",
    "miles_data=km_input/1.609\n",
    "print(f\"Your {km_input} run was {round(miles_data)}mi\")"
   ]
  },
  {
   "cell_type": "code",
   "execution_count": null,
   "metadata": {},
   "outputs": [],
   "source": []
  }
 ],
 "metadata": {
  "kernelspec": {
   "display_name": "Python 3",
   "language": "python",
   "name": "python3"
  },
  "language_info": {
   "codemirror_mode": {
    "name": "ipython",
    "version": 3
   },
   "file_extension": ".py",
   "mimetype": "text/x-python",
   "name": "python",
   "nbconvert_exporter": "python",
   "pygments_lexer": "ipython3",
   "version": "3.7.1"
  }
 },
 "nbformat": 4,
 "nbformat_minor": 2
}
