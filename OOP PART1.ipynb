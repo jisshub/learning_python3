{
 "cells": [
  {
   "cell_type": "code",
   "execution_count": 3,
   "metadata": {},
   "outputs": [],
   "source": [
    "class User:\n",
    "    pass\n",
    "u=User()"
   ]
  },
  {
   "cell_type": "code",
   "execution_count": 4,
   "metadata": {},
   "outputs": [],
   "source": [
    "class User:\n",
    "    pass"
   ]
  },
  {
   "cell_type": "code",
   "execution_count": 5,
   "metadata": {},
   "outputs": [],
   "source": [
    "class Vehicle:\n",
    "    pass\n",
    "car=Vehicle()\n",
    "boat=Vehicle()"
   ]
  },
  {
   "cell_type": "markdown",
   "metadata": {},
   "source": [
    "# __init__() method"
   ]
  },
  {
   "cell_type": "code",
   "execution_count": 10,
   "metadata": {},
   "outputs": [],
   "source": [
    "class Vehicle:\n",
    "    def __init__(self,mod,col):\n",
    "        self.model=mod\n",
    "        self.color=col\n",
    "car=Vehicle('z4','grey')\n",
    "\n",
    "#here mod and col are parameters v pass in\n",
    "#model and color is the object(instance) attributes"
   ]
  },
  {
   "cell_type": "code",
   "execution_count": 11,
   "metadata": {},
   "outputs": [
    {
     "name": "stdout",
     "output_type": "stream",
     "text": [
      "z4\n"
     ]
    }
   ],
   "source": [
    "print(car.model)"
   ]
  },
  {
   "cell_type": "code",
   "execution_count": 12,
   "metadata": {},
   "outputs": [
    {
     "name": "stdout",
     "output_type": "stream",
     "text": [
      "grey\n"
     ]
    }
   ],
   "source": [
    "print(car.color)"
   ]
  },
  {
   "cell_type": "code",
   "execution_count": 13,
   "metadata": {},
   "outputs": [],
   "source": [
    "#antother example\n"
   ]
  },
  {
   "cell_type": "code",
   "execution_count": 1,
   "metadata": {},
   "outputs": [],
   "source": [
    "class User:\n",
    "    def __init__(self,first_name,last_name,age):\n",
    "        self.first=first_name\n",
    "        self.last=last_name\n",
    "        self.age=age\n",
    "user1=User('jiss','jose',22)\n",
    "\n",
    "#self refers to the object user1.if user2 is created then self refers to that specfic object\n",
    "#here this arguments r passed to parameters while obbject is created"
   ]
  },
  {
   "cell_type": "code",
   "execution_count": 15,
   "metadata": {},
   "outputs": [
    {
     "ename": "NameError",
     "evalue": "name 'self' is not defined",
     "output_type": "error",
     "traceback": [
      "\u001b[1;31m---------------------------------------------------------------------------\u001b[0m",
      "\u001b[1;31mNameError\u001b[0m                                 Traceback (most recent call last)",
      "\u001b[1;32m<ipython-input-15-31a6551becde>\u001b[0m in \u001b[0;36m<module>\u001b[1;34m\u001b[0m\n\u001b[1;32m----> 1\u001b[1;33m \u001b[0mprint\u001b[0m\u001b[1;33m(\u001b[0m\u001b[0mself\u001b[0m\u001b[1;33m.\u001b[0m\u001b[0mfirst\u001b[0m\u001b[1;33m)\u001b[0m\u001b[1;33m\u001b[0m\u001b[1;33m\u001b[0m\u001b[0m\n\u001b[0m",
      "\u001b[1;31mNameError\u001b[0m: name 'self' is not defined"
     ]
    }
   ],
   "source": [
    "print(self.first)"
   ]
  },
  {
   "cell_type": "code",
   "execution_count": 16,
   "metadata": {},
   "outputs": [
    {
     "name": "stdout",
     "output_type": "stream",
     "text": [
      "jiss\n"
     ]
    }
   ],
   "source": [
    "#accessing attributes of object\n",
    "print(user1.first)"
   ]
  },
  {
   "cell_type": "code",
   "execution_count": 17,
   "metadata": {},
   "outputs": [
    {
     "name": "stdout",
     "output_type": "stream",
     "text": [
      "jose\n"
     ]
    }
   ],
   "source": [
    "print(user1.last)"
   ]
  },
  {
   "cell_type": "code",
   "execution_count": 18,
   "metadata": {},
   "outputs": [
    {
     "name": "stdout",
     "output_type": "stream",
     "text": [
      "22\n"
     ]
    }
   ],
   "source": [
    "print(user1.age)"
   ]
  },
  {
   "cell_type": "code",
   "execution_count": 20,
   "metadata": {},
   "outputs": [],
   "source": [
    "#exercise"
   ]
  },
  {
   "cell_type": "code",
   "execution_count": 25,
   "metadata": {},
   "outputs": [],
   "source": [
    "class Comments:\n",
    "    def __init__(self,username,text,likes):\n",
    "        self.username=username\n",
    "        self.text=text\n",
    "        self.likes=likes\n",
    "c=Comments('ajith','have a good day',45)"
   ]
  },
  {
   "cell_type": "code",
   "execution_count": 26,
   "metadata": {},
   "outputs": [
    {
     "ename": "NameError",
     "evalue": "name 'self' is not defined",
     "output_type": "error",
     "traceback": [
      "\u001b[1;31m---------------------------------------------------------------------------\u001b[0m",
      "\u001b[1;31mNameError\u001b[0m                                 Traceback (most recent call last)",
      "\u001b[1;32m<ipython-input-26-932063de9916>\u001b[0m in \u001b[0;36m<module>\u001b[1;34m\u001b[0m\n\u001b[1;32m----> 1\u001b[1;33m \u001b[0mprint\u001b[0m\u001b[1;33m(\u001b[0m\u001b[0mself\u001b[0m\u001b[1;33m.\u001b[0m\u001b[0musername\u001b[0m\u001b[1;33m)\u001b[0m\u001b[1;33m\u001b[0m\u001b[1;33m\u001b[0m\u001b[0m\n\u001b[0m",
      "\u001b[1;31mNameError\u001b[0m: name 'self' is not defined"
     ]
    }
   ],
   "source": [
    "print(self.username)"
   ]
  },
  {
   "cell_type": "code",
   "execution_count": 27,
   "metadata": {},
   "outputs": [
    {
     "name": "stdout",
     "output_type": "stream",
     "text": [
      "ajith\n"
     ]
    }
   ],
   "source": [
    "print(c.username)"
   ]
  },
  {
   "cell_type": "code",
   "execution_count": 28,
   "metadata": {},
   "outputs": [
    {
     "name": "stdout",
     "output_type": "stream",
     "text": [
      "45\n"
     ]
    }
   ],
   "source": [
    "print(c.likes)"
   ]
  },
  {
   "cell_type": "markdown",
   "metadata": {},
   "source": [
    "# underscores"
   ]
  },
  {
   "cell_type": "code",
   "execution_count": 36,
   "metadata": {},
   "outputs": [],
   "source": [
    "class User:\n",
    "    def __init__(self,name,age):\n",
    "        self.__name=name\n",
    "        self.__age=age\n",
    "user1=User('jissmon',33)\n",
    "#here __name is specific to the class User\n"
   ]
  },
  {
   "cell_type": "code",
   "execution_count": 30,
   "metadata": {},
   "outputs": [
    {
     "ename": "AttributeError",
     "evalue": "'User' object has no attribute '__name'",
     "output_type": "error",
     "traceback": [
      "\u001b[1;31m---------------------------------------------------------------------------\u001b[0m",
      "\u001b[1;31mAttributeError\u001b[0m                            Traceback (most recent call last)",
      "\u001b[1;32m<ipython-input-30-08a5329a3824>\u001b[0m in \u001b[0;36m<module>\u001b[1;34m\u001b[0m\n\u001b[1;32m----> 1\u001b[1;33m \u001b[0mprint\u001b[0m\u001b[1;33m(\u001b[0m\u001b[0muser1\u001b[0m\u001b[1;33m.\u001b[0m\u001b[0m__name\u001b[0m\u001b[1;33m)\u001b[0m\u001b[1;33m\u001b[0m\u001b[1;33m\u001b[0m\u001b[0m\n\u001b[0m",
      "\u001b[1;31mAttributeError\u001b[0m: 'User' object has no attribute '__name'"
     ]
    }
   ],
   "source": [
    "print(user1.__name)"
   ]
  },
  {
   "cell_type": "code",
   "execution_count": 31,
   "metadata": {},
   "outputs": [
    {
     "data": {
      "text/plain": [
       "['_User__name',\n",
       " '__class__',\n",
       " '__delattr__',\n",
       " '__dict__',\n",
       " '__dir__',\n",
       " '__doc__',\n",
       " '__eq__',\n",
       " '__format__',\n",
       " '__ge__',\n",
       " '__getattribute__',\n",
       " '__gt__',\n",
       " '__hash__',\n",
       " '__init__',\n",
       " '__init_subclass__',\n",
       " '__le__',\n",
       " '__lt__',\n",
       " '__module__',\n",
       " '__ne__',\n",
       " '__new__',\n",
       " '__reduce__',\n",
       " '__reduce_ex__',\n",
       " '__repr__',\n",
       " '__setattr__',\n",
       " '__sizeof__',\n",
       " '__str__',\n",
       " '__subclasshook__',\n",
       " '__weakref__']"
      ]
     },
     "execution_count": 31,
     "metadata": {},
     "output_type": "execute_result"
    }
   ],
   "source": [
    "dir(user1)\n",
    "#here dir() return the attributes ofan object"
   ]
  },
  {
   "cell_type": "code",
   "execution_count": 32,
   "metadata": {},
   "outputs": [
    {
     "name": "stdout",
     "output_type": "stream",
     "text": [
      "jissmon\n"
     ]
    }
   ],
   "source": [
    "print(user1._User__name)\n",
    "#need to specify class to access the attribute"
   ]
  },
  {
   "cell_type": "code",
   "execution_count": 37,
   "metadata": {},
   "outputs": [
    {
     "ename": "AttributeError",
     "evalue": "'User' object has no attribute '__age'",
     "output_type": "error",
     "traceback": [
      "\u001b[1;31m---------------------------------------------------------------------------\u001b[0m",
      "\u001b[1;31mAttributeError\u001b[0m                            Traceback (most recent call last)",
      "\u001b[1;32m<ipython-input-37-ac65e8d50bb9>\u001b[0m in \u001b[0;36m<module>\u001b[1;34m\u001b[0m\n\u001b[1;32m----> 1\u001b[1;33m \u001b[0mprint\u001b[0m\u001b[1;33m(\u001b[0m\u001b[0muser1\u001b[0m\u001b[1;33m.\u001b[0m\u001b[0m__age\u001b[0m\u001b[1;33m)\u001b[0m\u001b[1;33m\u001b[0m\u001b[1;33m\u001b[0m\u001b[0m\n\u001b[0m",
      "\u001b[1;31mAttributeError\u001b[0m: 'User' object has no attribute '__age'"
     ]
    }
   ],
   "source": [
    "print(user1.__age)"
   ]
  },
  {
   "cell_type": "markdown",
   "metadata": {},
   "source": [
    "# Adding instance methods"
   ]
  },
  {
   "cell_type": "code",
   "execution_count": 6,
   "metadata": {},
   "outputs": [
    {
     "name": "stdout",
     "output_type": "stream",
     "text": [
      "Tom George 66\n"
     ]
    }
   ],
   "source": [
    "class User:\n",
    "    def __init__(self,first,last,age):\n",
    "        self.first_name=first\n",
    "        self.last_name=last\n",
    "        self.age=age\n",
    "    def full_name(self):#when v define a instance methid v need to pass parameter self. if not while accessing method using object it throws err \n",
    "        return f\"Full Name: {self.first_name} {self.last_name}\" #to refer first_name,refer it with self \n",
    "    def initials(self):\n",
    "        return f\"{self.first_name[0]}.{self.last_name[0]}\"\n",
    "    def likes(self,things):\n",
    "        return f\"{self.first_name} likes {things}\"#v can access 'things' without self, since its a parameter passed to method\n",
    "    def watch(self,show):\n",
    "        return f\"{self.first_name} watches {show}\"\n",
    "    def senior(self):\n",
    "        if self.age>=65:\n",
    "            return f\"{self.first_name} is senior\"\n",
    "        return f\"{self.first_name} not senior\"\n",
    "    def birthday(self):\n",
    "        self.age+=1\n",
    "        return f\"Happy {self.age}th Birthday {self.first_name}\"\n",
    "    def Say_hi():\n",
    "        return 'hi'\n",
    "    \n",
    "user1=User('Tom','George',66)\n",
    "print(user1.first_name,user1.last_name,user1.age)"
   ]
  },
  {
   "cell_type": "code",
   "execution_count": 38,
   "metadata": {},
   "outputs": [
    {
     "name": "stdout",
     "output_type": "stream",
     "text": [
      "Full Name: Tom George\n"
     ]
    }
   ],
   "source": [
    "print(user1.full_name())"
   ]
  },
  {
   "cell_type": "code",
   "execution_count": 24,
   "metadata": {},
   "outputs": [
    {
     "name": "stdout",
     "output_type": "stream",
     "text": [
      "T.G\n"
     ]
    }
   ],
   "source": [
    "print(user1.initials())"
   ]
  },
  {
   "cell_type": "code",
   "execution_count": 39,
   "metadata": {},
   "outputs": [
    {
     "name": "stdout",
     "output_type": "stream",
     "text": [
      "Tom likes Python\n"
     ]
    }
   ],
   "source": [
    "print(user1.likes('Python'))"
   ]
  },
  {
   "cell_type": "code",
   "execution_count": 47,
   "metadata": {},
   "outputs": [
    {
     "name": "stdout",
     "output_type": "stream",
     "text": [
      "Tom watches Netflix\n"
     ]
    }
   ],
   "source": [
    "print(user1.watch('Netflix'))"
   ]
  },
  {
   "cell_type": "code",
   "execution_count": 59,
   "metadata": {},
   "outputs": [
    {
     "name": "stdout",
     "output_type": "stream",
     "text": [
      "Tom is senior\n"
     ]
    }
   ],
   "source": [
    "print(user3.senior())"
   ]
  },
  {
   "cell_type": "code",
   "execution_count": 5,
   "metadata": {},
   "outputs": [
    {
     "name": "stdout",
     "output_type": "stream",
     "text": [
      "Happy 67th Birthday Tom\n"
     ]
    }
   ],
   "source": [
    "print(user1.birthday())"
   ]
  },
  {
   "cell_type": "code",
   "execution_count": 7,
   "metadata": {},
   "outputs": [
    {
     "ename": "TypeError",
     "evalue": "Say_hi() takes 0 positional arguments but 1 was given",
     "output_type": "error",
     "traceback": [
      "\u001b[1;31m---------------------------------------------------------------------------\u001b[0m",
      "\u001b[1;31mTypeError\u001b[0m                                 Traceback (most recent call last)",
      "\u001b[1;32m<ipython-input-7-cdb02e3612dd>\u001b[0m in \u001b[0;36m<module>\u001b[1;34m\u001b[0m\n\u001b[1;32m----> 1\u001b[1;33m \u001b[0muser1\u001b[0m\u001b[1;33m.\u001b[0m\u001b[0mSay_hi\u001b[0m\u001b[1;33m(\u001b[0m\u001b[1;33m)\u001b[0m\u001b[1;33m\u001b[0m\u001b[1;33m\u001b[0m\u001b[0m\n\u001b[0m",
      "\u001b[1;31mTypeError\u001b[0m: Say_hi() takes 0 positional arguments but 1 was given"
     ]
    }
   ],
   "source": [
    "user1.Say_hi()"
   ]
  },
  {
   "cell_type": "markdown",
   "metadata": {},
   "source": [
    "# Exercise"
   ]
  },
  {
   "cell_type": "code",
   "execution_count": 20,
   "metadata": {},
   "outputs": [],
   "source": [
    "class BankAccount:\n",
    "    def __init__(self,owner,balance=0.0):\n",
    "        self.owner=owner\n",
    "        self.balance=balance\n",
    "    def deposit(self,add_amt):\n",
    "        self.balance+=add_amt\n",
    "        return f\"Balance of {self.owner}: {self.balance}\"\n",
    "    def withdraw(self,deduct):\n",
    "        self.balance-=deduct\n",
    "        return f\"Balance of {self.owner}: {self.balance}\"\n",
    "    \n",
    "cust=BankAccount('ajith')        "
   ]
  },
  {
   "cell_type": "code",
   "execution_count": 21,
   "metadata": {},
   "outputs": [
    {
     "name": "stdout",
     "output_type": "stream",
     "text": [
      "0.0\n"
     ]
    }
   ],
   "source": [
    "print(cust.balance)"
   ]
  },
  {
   "cell_type": "code",
   "execution_count": 22,
   "metadata": {},
   "outputs": [
    {
     "name": "stdout",
     "output_type": "stream",
     "text": [
      "Balance of ajith: 4000.0\n"
     ]
    }
   ],
   "source": [
    "print(cust.deposit(4000))"
   ]
  },
  {
   "cell_type": "code",
   "execution_count": 18,
   "metadata": {},
   "outputs": [
    {
     "name": "stdout",
     "output_type": "stream",
     "text": [
      "4000.0\n"
     ]
    }
   ],
   "source": [
    "print(cust.balance)"
   ]
  },
  {
   "cell_type": "raw",
   "metadata": {},
   "source": [
    "print(cust.withdraw(300))"
   ]
  },
  {
   "cell_type": "code",
   "execution_count": 23,
   "metadata": {},
   "outputs": [
    {
     "name": "stdout",
     "output_type": "stream",
     "text": [
      "Balance of ajith: 3700.0\n"
     ]
    }
   ],
   "source": [
    "print(cust.withdraw(300))"
   ]
  },
  {
   "cell_type": "markdown",
   "metadata": {},
   "source": [
    "# Adding CLASS ATTRIBUTES "
   ]
  },
  {
   "cell_type": "code",
   "execution_count": 37,
   "metadata": {},
   "outputs": [
    {
     "name": "stdout",
     "output_type": "stream",
     "text": [
      "2\n"
     ]
    }
   ],
   "source": [
    "class User:\n",
    "    #to define a class atribute,  \n",
    "    active_user=0 #it defined once the user class itself\n",
    "    def __init__(self,first,last,age):\n",
    "        self.first_name=first\n",
    "        self.last_name=last\n",
    "        self.age=age\n",
    "        User.active_user+=1 #no need of since it is a class attribute.so every time when object created init() runs and active_user is incremented\n",
    "    def full_name(self):#when v define a instance methid v need to pass parameter self. if not while accessing method using object it throws err \n",
    "        return f\"Full Name: {self.first_name} {self.last_name}\" #to refer first_name,refer it with self \n",
    "    def initials(self):\n",
    "        return f\"{self.first_name[0]}.{self.last_name[0]}\"\n",
    "    def likes(self,things):\n",
    "        return f\"{self.first_name} likes {things}\"#v can access 'things' without self, since its a parameter passed to method\n",
    "    def watch(self,show):\n",
    "        return f\"{self.first_name} watches {show}\"\n",
    "    def senior(self):\n",
    "        if self.age>=65:\n",
    "            return f\"{self.first_name} is senior\"\n",
    "        return f\"{self.first_name} not senior\"\n",
    "    def birthday(self):\n",
    "        self.age+=1\n",
    "        return f\"Happy {self.age}th Birthday {self.first_name}\"\n",
    "    def Say_hi():\n",
    "        return 'hi'\n",
    "    def logout(self):\n",
    "        User.active_user-=1\n",
    "        return f\"{self.first_name} has Logged out\"\n",
    "        #User.active_user\n",
    "        \n",
    "user1=User('Tom','George',66)\n",
    "user2=User('Tim','George',26)\n",
    "#print(user1.first_name,user1.last_name,user1.age)\n",
    "#we can access the class attribute by refering it with the class name\n",
    "print(User.active_user)\n",
    "\n",
    "#we can always access the class attributes using the class name inside the methods"
   ]
  },
  {
   "cell_type": "code",
   "execution_count": 39,
   "metadata": {},
   "outputs": [
    {
     "name": "stdout",
     "output_type": "stream",
     "text": [
      "Tom has Logged out\n"
     ]
    }
   ],
   "source": [
    "print(user1.logout())"
   ]
  },
  {
   "cell_type": "code",
   "execution_count": 40,
   "metadata": {},
   "outputs": [
    {
     "name": "stdout",
     "output_type": "stream",
     "text": [
      "0\n"
     ]
    }
   ],
   "source": [
    "print(User.active_user)"
   ]
  },
  {
   "cell_type": "code",
   "execution_count": 25,
   "metadata": {},
   "outputs": [],
   "source": [
    "class Pet:\n",
    "    permitted=['cat','dog','rabbit','hen'] #if not want to use this in any other method put it in init()\n",
    "    def __init__(self,name,species):\n",
    "        if species not in Pet.permitted:\n",
    "            raise ValueError(\"not allowed\")\n",
    "        self.name=name\n",
    "        self.species=species\n",
    "    def sp_color(self,color):\n",
    "        return f\"{self.species} have {color} color\"\n",
    "cat=Pet('jerry','cat')\n"
   ]
  },
  {
   "cell_type": "code",
   "execution_count": 11,
   "metadata": {},
   "outputs": [
    {
     "name": "stdout",
     "output_type": "stream",
     "text": [
      "jerry\n"
     ]
    }
   ],
   "source": [
    "print(cat.name)"
   ]
  },
  {
   "cell_type": "code",
   "execution_count": 14,
   "metadata": {},
   "outputs": [
    {
     "name": "stdout",
     "output_type": "stream",
     "text": [
      "dog\n"
     ]
    }
   ],
   "source": [
    "print(cat.species)"
   ]
  },
  {
   "cell_type": "code",
   "execution_count": 20,
   "metadata": {},
   "outputs": [
    {
     "ename": "AttributeError",
     "evalue": "type object 'Pet' has no attribute 'permitted'",
     "output_type": "error",
     "traceback": [
      "\u001b[1;31m---------------------------------------------------------------------------\u001b[0m",
      "\u001b[1;31mAttributeError\u001b[0m                            Traceback (most recent call last)",
      "\u001b[1;32m<ipython-input-20-db82132cc040>\u001b[0m in \u001b[0;36m<module>\u001b[1;34m\u001b[0m\n\u001b[1;32m----> 1\u001b[1;33m \u001b[0mPet\u001b[0m\u001b[1;33m.\u001b[0m\u001b[0mpermitted\u001b[0m\u001b[1;33m\u001b[0m\u001b[1;33m\u001b[0m\u001b[0m\n\u001b[0m",
      "\u001b[1;31mAttributeError\u001b[0m: type object 'Pet' has no attribute 'permitted'"
     ]
    }
   ],
   "source": [
    "Pet.permitted"
   ]
  },
  {
   "cell_type": "code",
   "execution_count": 21,
   "metadata": {},
   "outputs": [],
   "source": [
    "cat.species=\"Tiger\""
   ]
  },
  {
   "cell_type": "code",
   "execution_count": 22,
   "metadata": {},
   "outputs": [
    {
     "name": "stdout",
     "output_type": "stream",
     "text": [
      "Tiger\n"
     ]
    }
   ],
   "source": [
    "print(cat.species)"
   ]
  },
  {
   "cell_type": "code",
   "execution_count": 26,
   "metadata": {},
   "outputs": [
    {
     "name": "stdout",
     "output_type": "stream",
     "text": [
      "cat have yello color\n"
     ]
    }
   ],
   "source": [
    "print(cat.sp_color('yello'))"
   ]
  },
  {
   "cell_type": "code",
   "execution_count": 27,
   "metadata": {},
   "outputs": [
    {
     "data": {
      "text/plain": [
       "['cat', 'dog', 'rabbit', 'hen']"
      ]
     },
     "execution_count": 27,
     "metadata": {},
     "output_type": "execute_result"
    }
   ],
   "source": [
    "cat.permitted"
   ]
  },
  {
   "cell_type": "markdown",
   "metadata": {},
   "source": [
    "# Excercises 2"
   ]
  },
  {
   "cell_type": "code",
   "execution_count": 48,
   "metadata": {},
   "outputs": [],
   "source": [
    "class Chicken:\n",
    "    total_eggs=0\n",
    "    def __init__(self,species,name,eggs=0):\n",
    "        self.species=species\n",
    "        self.name=name\n",
    "        self.eggs=eggs\n",
    "    def lay_eggs(self):\n",
    "        self.eggs+=1\n",
    "        Chicken.total_eggs+=1\n",
    "        return f\"individual eggs:{self.eggs}\"\n",
    "c1=Chicken('Rhode','den')    \n"
   ]
  },
  {
   "cell_type": "code",
   "execution_count": 29,
   "metadata": {},
   "outputs": [
    {
     "data": {
      "text/plain": [
       "'den'"
      ]
     },
     "execution_count": 29,
     "metadata": {},
     "output_type": "execute_result"
    }
   ],
   "source": [
    "c1.name"
   ]
  },
  {
   "cell_type": "code",
   "execution_count": 30,
   "metadata": {},
   "outputs": [
    {
     "data": {
      "text/plain": [
       "0"
      ]
     },
     "execution_count": 30,
     "metadata": {},
     "output_type": "execute_result"
    }
   ],
   "source": [
    "c1.eggs"
   ]
  },
  {
   "cell_type": "code",
   "execution_count": 51,
   "metadata": {},
   "outputs": [
    {
     "data": {
      "text/plain": [
       "'individual eggs:3'"
      ]
     },
     "execution_count": 51,
     "metadata": {},
     "output_type": "execute_result"
    }
   ],
   "source": [
    "c1.lay_eggs()"
   ]
  },
  {
   "cell_type": "code",
   "execution_count": 52,
   "metadata": {},
   "outputs": [
    {
     "name": "stdout",
     "output_type": "stream",
     "text": [
      "3\n"
     ]
    }
   ],
   "source": [
    "print(Chicken.total_eggs)"
   ]
  },
  {
   "cell_type": "code",
   "execution_count": 24,
   "metadata": {},
   "outputs": [],
   "source": [
    "class Game:\n",
    "    chances=0\n",
    "    def __init__(self,name,div,points=0):\n",
    "        self.name=name\n",
    "        self.division=div\n",
    "        self.points=points\n",
    "    def rotate_wheel(self,limit):\n",
    "        if Game.chances>limit:\n",
    "            return f\"{self.name} limit exceeds\"\n",
    "        self.points+=1\n",
    "        Game.chances+=1\n",
    "        return f\"Total_Points:{self.points}\"\n",
    "player1=Game('ajith',4)"
   ]
  },
  {
   "cell_type": "code",
   "execution_count": 33,
   "metadata": {},
   "outputs": [
    {
     "name": "stdout",
     "output_type": "stream",
     "text": [
      "ajith limit exceeds\n"
     ]
    }
   ],
   "source": [
    "print(player1.rotate_wheel(3))"
   ]
  },
  {
   "cell_type": "code",
   "execution_count": 34,
   "metadata": {},
   "outputs": [
    {
     "name": "stdout",
     "output_type": "stream",
     "text": [
      "4\n"
     ]
    }
   ],
   "source": [
    "print(Game.chances)"
   ]
  },
  {
   "cell_type": "markdown",
   "metadata": {},
   "source": [
    "# class methods"
   ]
  },
  {
   "cell_type": "code",
   "execution_count": 23,
   "metadata": {},
   "outputs": [],
   "source": [
    "class User:\n",
    "    #to define a class atribute,  \n",
    "    active_user=0 #it defined once the user class itself\n",
    "    #to define a class method\n",
    "    \n",
    "    @classmethod\n",
    "    #later define a method.now this method is the classmethod\n",
    "    def display_active_users(cls):\n",
    "        # instead of self use cls as parameter.since class User is passed to it when v call this method.\n",
    "        return f\"There r {cls.active_user} active users\"\n",
    "            #instead of specifying User.active_user, we refer cls.active_user since class User is passed to cls\n",
    "        \n",
    "    def __init__(self,first,last,age):\n",
    "        self.first_name=first\n",
    "        self.last_name=last\n",
    "        self.age=age\n",
    "        User.active_user+=1 #no need of since it is a class attribute.so every time when object created init() runs and active_user is incremented\n",
    "   \n",
    "\n",
    "    \n",
    "    def full_name(self):#when v define a instance methid v need to pass parameter self. if not while accessing method using object it throws err \n",
    "        return f\"Full Name: {self.first_name} {self.last_name}\" #to refer first_name,refer it with self \n",
    "   \n",
    "    def initials(self):\n",
    "        return f\"{self.first_name[0]}.{self.last_name[0]}\"\n",
    "    \n",
    "    def likes(self,things):\n",
    "        return f\"{self.first_name} likes {things}\"#v can access 'things' without self, since its a parameter passed to method\n",
    "    \n",
    "    def watch(self,show):\n",
    "        return f\"{self.first_name} watches {show}\"\n",
    "    \n",
    "    def senior(self):\n",
    "        if self.age>=65:\n",
    "            return f\"{self.first_name} is senior\"\n",
    "        return f\"{self.first_name} not senior\"\n",
    "    def birthday(self):\n",
    "        self.age+=1\n",
    "        return f\"Happy {self.age}th Birthday {self.first_name}\"\n",
    "    \n",
    "    def Say_hi():\n",
    "        return 'hi'\n",
    "    \n",
    "    def logout(self):\n",
    "        User.active_user-=1\n",
    "        return f\"{self.first_name} has Logged out\"\n",
    "        #User.active_user\n",
    "    \n",
    "    \n",
    "        \n",
    "        \n",
    "user1=User('Tom','George',66)\n",
    "\n",
    "user2=User('Tim','George',26)\n",
    "\n",
    "\n",
    "\n",
    "#print(user1.first_name,user1.last_name,user1.age)\n",
    "#we can access the class attribute by refering it with the class name\n",
    "#print(User.active_user)\n",
    "\n",
    "#we can always access the class attributes using the class name inside the methods"
   ]
  },
  {
   "cell_type": "code",
   "execution_count": 24,
   "metadata": {},
   "outputs": [
    {
     "name": "stdout",
     "output_type": "stream",
     "text": [
      "There r 2 active users\n"
     ]
    }
   ],
   "source": [
    "print(User.display_active_users())"
   ]
  },
  {
   "cell_type": "code",
   "execution_count": 19,
   "metadata": {},
   "outputs": [],
   "source": [
    "user3=User('Jaily','george',33)"
   ]
  },
  {
   "cell_type": "code",
   "execution_count": 25,
   "metadata": {},
   "outputs": [
    {
     "ename": "TypeError",
     "evalue": "name() missing 1 required positional argument: 'cls'",
     "output_type": "error",
     "traceback": [
      "\u001b[1;31m---------------------------------------------------------------------------\u001b[0m",
      "\u001b[1;31mTypeError\u001b[0m                                 Traceback (most recent call last)",
      "\u001b[1;32m<ipython-input-25-387f3a2ee9a6>\u001b[0m in \u001b[0;36m<module>\u001b[1;34m\u001b[0m\n\u001b[1;32m----> 1\u001b[1;33m \u001b[0mprint\u001b[0m\u001b[1;33m(\u001b[0m\u001b[0mUser\u001b[0m\u001b[1;33m.\u001b[0m\u001b[0mname\u001b[0m\u001b[1;33m(\u001b[0m\u001b[1;33m)\u001b[0m\u001b[1;33m)\u001b[0m\u001b[1;33m\u001b[0m\u001b[1;33m\u001b[0m\u001b[0m\n\u001b[0m",
      "\u001b[1;31mTypeError\u001b[0m: name() missing 1 required positional argument: 'cls'"
     ]
    }
   ],
   "source": [
    "print(User.name())"
   ]
  },
  {
   "cell_type": "markdown",
   "metadata": {},
   "source": [
    "# exercises"
   ]
  },
  {
   "cell_type": "code",
   "execution_count": 26,
   "metadata": {},
   "outputs": [],
   "source": [
    "class Game:\n",
    "    chances=0\n",
    "    @classmethod\n",
    "    def display_chances(cls):\n",
    "        return f\"There are {cls.chances}chances\"\n",
    "        \n",
    "    def __init__(self,name,div,points=0):\n",
    "        self.name=name\n",
    "        self.division=div\n",
    "        self.points=points\n",
    "    def rotate_wheel(self,limit):\n",
    "        if Game.chances>limit:\n",
    "            return f\"{self.name} limit exceeds\"\n",
    "        self.points+=1\n",
    "        Game.chances+=1\n",
    "        return f\"Total_Points:{self.points}\"\n",
    "player1=Game('ajith',4)"
   ]
  },
  {
   "cell_type": "code",
   "execution_count": 32,
   "metadata": {},
   "outputs": [
    {
     "name": "stdout",
     "output_type": "stream",
     "text": [
      "ajith limit exceeds\n"
     ]
    }
   ],
   "source": [
    "print(player1.rotate_wheel(2))"
   ]
  },
  {
   "cell_type": "code",
   "execution_count": 33,
   "metadata": {},
   "outputs": [
    {
     "name": "stdout",
     "output_type": "stream",
     "text": [
      "There are 3 no of chances\n"
     ]
    }
   ],
   "source": [
    "print(Game.display_chances())"
   ]
  },
  {
   "cell_type": "markdown",
   "metadata": {},
   "source": [
    "# creating new instance of class using classmethod"
   ]
  },
  {
   "cell_type": "code",
   "execution_count": 41,
   "metadata": {},
   "outputs": [],
   "source": [
    "class User:\n",
    "    #to define a class atribute,  \n",
    "    active_user=0 #it defined once the user class itself\n",
    "    #to define a class method\n",
    "    \n",
    "    @classmethod\n",
    "    #later define a method.now this method is the classmethod\n",
    "    def display_active_users(cls):\n",
    "        # instead of self use cls as parameter.since class User is passed to it when v call this method.\n",
    "        return f\"There r {cls.active_user} active users\"\n",
    "            #instead of specifying User.active_user, we refer cls.active_user since class User is passed to cls\n",
    "    \n",
    "    @classmethod\n",
    "    def new_user(cls,data):\n",
    "        #v split the data to three variables\n",
    "        first,last,age=data.split(',')\n",
    "        #and return a new user using the data splited. here cls(first,last,age) is same as User(first,last,age)\n",
    "        #cls(first,last,age) is used since calling new_user() will pass User class to cls. \n",
    "        return cls(first,last,int(age))\n",
    "        \n",
    "        \n",
    "    def __init__(self,first,last,age):\n",
    "        self.first_name=first\n",
    "        self.last_name=last\n",
    "        self.age=age\n",
    "        User.active_user+=1 #no need of since it is a class attribute.so every time when object created init() runs and active_user is incremented\n",
    "   \n",
    "\n",
    "    \n",
    "    def full_name(self):#when v define a instance methid v need to pass parameter self. if not while accessing method using object it throws err \n",
    "        return f\"Full Name: {self.first_name} {self.last_name}\" #to refer first_name,refer it with self \n",
    "   \n",
    "    def initials(self):\n",
    "        return f\"{self.first_name[0]}.{self.last_name[0]}\"\n",
    "    \n",
    "    def likes(self,things):\n",
    "        return f\"{self.first_name} likes {things}\"#v can access 'things' without self, since its a parameter passed to method\n",
    "    \n",
    "    def watch(self,show):\n",
    "        return f\"{self.first_name} watches {show}\"\n",
    "    \n",
    "    def senior(self):\n",
    "        if self.age>=65:\n",
    "            return f\"{self.first_name} is senior\"\n",
    "        return f\"{self.first_name} not senior\"\n",
    "    def birthday(self):\n",
    "        self.age+=1\n",
    "        return f\"Happy {self.age}th Birthday {self.first_name}\"\n",
    "    \n",
    "    def Say_hi():\n",
    "        return 'hi'\n",
    "    \n",
    "    def logout(self):\n",
    "        User.active_user-=1\n",
    "        return f\"{self.first_name} has Logged out\"\n",
    "        #User.active_user\n",
    "    \n",
    "#calling the new_user() and passing the data as single string.    \n",
    "tom_obj=User.new_user('tom,john,44')    \n",
    "\n",
    "#user1=User('Tom','George',66)\n",
    "\n",
    "#user2=User('Tim','George',26)\n",
    "\n",
    "\n",
    "\n",
    "#print(user1.first_name,user1.last_name,user1.age)\n",
    "#we can access the class attribute by refering it with the class name\n",
    "#print(User.active_user)\n",
    "\n",
    "#we can always access the class attributes using the class name inside the methods"
   ]
  },
  {
   "cell_type": "code",
   "execution_count": 42,
   "metadata": {},
   "outputs": [
    {
     "data": {
      "text/plain": [
       "'tom'"
      ]
     },
     "execution_count": 42,
     "metadata": {},
     "output_type": "execute_result"
    }
   ],
   "source": [
    "tom_obj.first_name"
   ]
  },
  {
   "cell_type": "code",
   "execution_count": 43,
   "metadata": {},
   "outputs": [
    {
     "data": {
      "text/plain": [
       "'Happy 45th Birthday tom'"
      ]
     },
     "execution_count": 43,
     "metadata": {},
     "output_type": "execute_result"
    }
   ],
   "source": [
    "tom_obj.birthday()"
   ]
  },
  {
   "cell_type": "code",
   "execution_count": 44,
   "metadata": {},
   "outputs": [
    {
     "data": {
      "text/plain": [
       "11"
      ]
     },
     "execution_count": 44,
     "metadata": {},
     "output_type": "execute_result"
    }
   ],
   "source": [
    "len('tom,john,44')"
   ]
  },
  {
   "cell_type": "code",
   "execution_count": 45,
   "metadata": {},
   "outputs": [
    {
     "data": {
      "text/plain": [
       "'t.j'"
      ]
     },
     "execution_count": 45,
     "metadata": {},
     "output_type": "execute_result"
    }
   ],
   "source": [
    "tom_obj.initials()"
   ]
  },
  {
   "cell_type": "markdown",
   "metadata": {},
   "source": [
    "# __repr__()method - for string representation"
   ]
  },
  {
   "cell_type": "code",
   "execution_count": 53,
   "metadata": {},
   "outputs": [],
   "source": [
    "class User:\n",
    "    #to define a class atribute,  \n",
    "    active_user=0 #it defined once the user class itself\n",
    "    #to define a class method\n",
    "    \n",
    "    @classmethod\n",
    "    #later define a method.now this method is the classmethod\n",
    "    def display_active_users(cls):\n",
    "        # instead of self use cls as parameter.since class User is passed to it when v call this method.\n",
    "        return f\"There r {cls.active_user} active users\"\n",
    "            #instead of specifying User.active_user, we refer cls.active_user since class User is passed to cls\n",
    "        \n",
    "    def __init__(self,first,last,age):\n",
    "        self.first_name=first\n",
    "        self.last_name=last\n",
    "        self.age=age\n",
    "        User.active_user+=1 #no need of since it is a class attribute.so every time when object created init() runs and active_user is incremented\n",
    "   \n",
    "    def __repr__(self):\n",
    "        return f\"{self.first_name} is {self.age} yrs old\"\n",
    "    \n",
    "    def full_name(self):#when v define a instance methid v need to pass parameter self. if not while accessing method using object it throws err \n",
    "        return f\"Full Name: {self.first_name} {self.last_name}\" #to refer first_name,refer it with self \n",
    "   \n",
    "    def initials(self):\n",
    "        return f\"{self.first_name[0]}.{self.last_name[0]}\"\n",
    "    \n",
    "    def likes(self,things):\n",
    "        return f\"{self.first_name} likes {things}\"#v can access 'things' without self, since its a parameter passed to method\n",
    "    \n",
    "    def watch(self,show):\n",
    "        return f\"{self.first_name} watches {show}\"\n",
    "    \n",
    "    def senior(self):\n",
    "        if self.age>=65:\n",
    "            return f\"{self.first_name} is senior\"\n",
    "        return f\"{self.first_name} not senior\"\n",
    "    def birthday(self):\n",
    "        self.age+=1\n",
    "        return f\"Happy {self.age}th Birthday {self.first_name}\"\n",
    "    \n",
    "    def Say_hi():\n",
    "        return 'hi'\n",
    "    \n",
    "    def logout(self):\n",
    "        User.active_user-=1\n",
    "        return f\"{self.first_name} has Logged out\"\n",
    "        #User.active_user\n",
    "    \n",
    "    \n",
    "        \n",
    "        \n",
    "user1=User('Tom','George',66)\n",
    "\n",
    "user2=User('Tim','George',26)\n",
    "\n",
    "\n",
    "\n",
    "#print(user1.first_name,user1.last_name,user1.age)\n",
    "#we can access the class attribute by refering it with the class name\n",
    "#print(User.active_user)\n",
    "\n",
    "#we can always access the class attributes using the class name inside the methods"
   ]
  },
  {
   "cell_type": "code",
   "execution_count": 54,
   "metadata": {},
   "outputs": [
    {
     "name": "stdout",
     "output_type": "stream",
     "text": [
      "Tim is 26 yrs old\n"
     ]
    }
   ],
   "source": [
    "print(user2)"
   ]
  },
  {
   "cell_type": "code",
   "execution_count": 67,
   "metadata": {},
   "outputs": [],
   "source": [
    "class Game:\n",
    "    chances=0\n",
    "    @classmethod\n",
    "    def display_chances(cls):\n",
    "        return f\"There are {cls.chances}chances\"\n",
    "        \n",
    "    def __init__(self,name,div,points=0):\n",
    "        self.name=name\n",
    "        self.division=div\n",
    "        self.points=points\n",
    "    def __repr__(self):\n",
    "        return f\"{self.name} is {self.division}\"\n",
    "    def rotate_wheel(self,limit):\n",
    "        if Game.chances>limit:\n",
    "            return f\"{self.name} limit exceeds\"\n",
    "        self.points+=1\n",
    "        Game.chances+=1\n",
    "        return f\"Total_Points:{self.points}\"\n",
    "player1=Game('ajith',4)\n",
    "player3=Game(\"jerin\",5)"
   ]
  },
  {
   "cell_type": "code",
   "execution_count": 68,
   "metadata": {},
   "outputs": [
    {
     "name": "stdout",
     "output_type": "stream",
     "text": [
      "ajith is 4\n",
      "jerin is 5\n"
     ]
    }
   ],
   "source": [
    "print(player1)\n",
    "print(player3)"
   ]
  },
  {
   "cell_type": "markdown",
   "metadata": {},
   "source": [
    "# deck of cards exercise"
   ]
  },
  {
   "cell_type": "code",
   "execution_count": 1,
   "metadata": {},
   "outputs": [],
   "source": [
    "class Card:\n",
    "    def __init__(self,suit,value):\n",
    "        self.suit=suit\n",
    "        self.value=value\n",
    "    def __repr__(self):\n",
    "        return f\"{self.value} of {self.suit}\"\n",
    "c1=Card('Hearts','A')"
   ]
  },
  {
   "cell_type": "code",
   "execution_count": 3,
   "metadata": {},
   "outputs": [
    {
     "data": {
      "text/plain": [
       "'Hearts'"
      ]
     },
     "execution_count": 3,
     "metadata": {},
     "output_type": "execute_result"
    }
   ],
   "source": [
    "c1.suit"
   ]
  },
  {
   "cell_type": "code",
   "execution_count": 4,
   "metadata": {},
   "outputs": [
    {
     "name": "stdout",
     "output_type": "stream",
     "text": [
      "A of Hearts\n"
     ]
    }
   ],
   "source": [
    "print(c1)"
   ]
  },
  {
   "cell_type": "code",
   "execution_count": null,
   "metadata": {},
   "outputs": [],
   "source": [
    "(\"A\", \"2\", \"3\", \"4\", \"5\", \"6\", \"7\", \"8\", \"9\", \"10\", \"J\", \"Q\", \"K\")\n",
    "\n",
    "suit (\"Hearts\", \"Diamonds\", \"Clubs\", or \"Spades\")."
   ]
  },
  {
   "cell_type": "markdown",
   "metadata": {},
   "source": [
    "Deck \n",
    "\n",
    "Each instance of Deck  should have a cards attribute with all 52 possible instances of Card .\n",
    "Deck  should have an instance method called count  which returns a count of how many cards remain in the deck.\n",
    "Deck 's __repr__  method should return information on how many cards are in the deck (e.g. \"Deck of 52 cards\", \"Deck of 12 cards\", etc.)\n",
    "Deck  should have an instance method called _deal  which accepts a number and removes at most that many cards from the deck (it may need to remove fewer if you request more cards than are currently in the deck!). If there are no cards left, this method should return a ValueError  with the message \"All cards have been dealt\".\n",
    "Deck  should have an instance method called shuffle  which will shuffle a full deck of cards. If there are cards missing from the deck, this method should return a ValueError  with the message \"Only full decks can be shuffled\".  shuffle should return the shuffled deck.\n",
    "Deck  should have an instance method called deal_card  which uses the _deal  method to deal a single card from the deck and return that single card.\n",
    "Deck  should have an instance method called deal_hand  which accepts a number and uses the _deal  method to deal a list of cards from the deck and return that list of cards."
   ]
  },
  {
   "cell_type": "code",
   "execution_count": 113,
   "metadata": {},
   "outputs": [
    {
     "data": {
      "text/plain": [
       "52"
      ]
     },
     "execution_count": 113,
     "metadata": {},
     "output_type": "execute_result"
    }
   ],
   "source": [
    "class Card:\n",
    "    def __init__(self,suit,value):\n",
    "        self.suit=suit\n",
    "        self.value=value\n",
    "    def __repr__(self):\n",
    "        return f\"{self.value} of {self.suit}\"\n",
    "#c1=Card('Hearts','A')\n",
    "\n",
    "\n",
    "class Deck:\n",
    "    def __init__(self):\n",
    "        suits=[\"Hearts\",\"Diamonds\",\"Club\",\"Spades\"]\n",
    "        values=[\"A\", \"2\", \"3\", \"4\", \"5\", \"6\", \"7\", \"8\", \"9\", \"10\", \"J\", \"Q\", \"K\"]\n",
    "        self.cards=[Card(suit,value) for suit in suits for value in values]\n",
    "    def __repr__(self):\n",
    "        return f\"Deck of {self.count()} cards\" \n",
    "    \n",
    "    def count(self):\n",
    "        return len(self.cards)\n",
    "   \n",
    "    def _deal(self,number):\n",
    "        count=self.count()\n",
    "        min_remove=min(count,number)\n",
    "        if count==0:\n",
    "            raise ValueError(\"All Cards have been dealt\")\n",
    "\n",
    "        new=self.cards[-min_remove:]\n",
    "        self.cards=self.cards[:-new]\n",
    "        return cards\n",
    "    \n",
    "            \n",
    "            \n",
    "        \n",
    "        \n",
    "            \n",
    "        \n",
    "        \n",
    "d1=Deck()\n",
    "#d1.cards\n",
    "d1.count()\n",
    "#print(d1)\n",
    "#d1._deal(3)"
   ]
  },
  {
   "cell_type": "code",
   "execution_count": 114,
   "metadata": {},
   "outputs": [
    {
     "ename": "AttributeError",
     "evalue": "'Deck' object has no attribute 'card'",
     "output_type": "error",
     "traceback": [
      "\u001b[1;31m---------------------------------------------------------------------------\u001b[0m",
      "\u001b[1;31mAttributeError\u001b[0m                            Traceback (most recent call last)",
      "\u001b[1;32m<ipython-input-114-8d9cac0a4e2e>\u001b[0m in \u001b[0;36m<module>\u001b[1;34m\u001b[0m\n\u001b[1;32m----> 1\u001b[1;33m \u001b[0md1\u001b[0m\u001b[1;33m.\u001b[0m\u001b[0m_deal\u001b[0m\u001b[1;33m(\u001b[0m\u001b[1;36m333\u001b[0m\u001b[1;33m)\u001b[0m\u001b[1;33m\u001b[0m\u001b[1;33m\u001b[0m\u001b[0m\n\u001b[0m",
      "\u001b[1;32m<ipython-input-113-3f91766172a1>\u001b[0m in \u001b[0;36m_deal\u001b[1;34m(self, number)\u001b[0m\n\u001b[0;32m     25\u001b[0m             \u001b[1;32mraise\u001b[0m \u001b[0mValueError\u001b[0m\u001b[1;33m(\u001b[0m\u001b[1;34m\"All Cards have been dealt\"\u001b[0m\u001b[1;33m)\u001b[0m\u001b[1;33m\u001b[0m\u001b[1;33m\u001b[0m\u001b[0m\n\u001b[0;32m     26\u001b[0m \u001b[1;33m\u001b[0m\u001b[0m\n\u001b[1;32m---> 27\u001b[1;33m         \u001b[0mnew\u001b[0m\u001b[1;33m=\u001b[0m\u001b[0mself\u001b[0m\u001b[1;33m.\u001b[0m\u001b[0mcard\u001b[0m\u001b[1;33m[\u001b[0m\u001b[1;33m-\u001b[0m\u001b[0mmin_remove\u001b[0m\u001b[1;33m:\u001b[0m\u001b[1;33m]\u001b[0m\u001b[1;33m\u001b[0m\u001b[1;33m\u001b[0m\u001b[0m\n\u001b[0m\u001b[0;32m     28\u001b[0m         \u001b[0mself\u001b[0m\u001b[1;33m.\u001b[0m\u001b[0mcards\u001b[0m\u001b[1;33m=\u001b[0m\u001b[0mself\u001b[0m\u001b[1;33m.\u001b[0m\u001b[0mcards\u001b[0m\u001b[1;33m[\u001b[0m\u001b[1;33m:\u001b[0m\u001b[1;33m-\u001b[0m\u001b[0mnew\u001b[0m\u001b[1;33m]\u001b[0m\u001b[1;33m\u001b[0m\u001b[1;33m\u001b[0m\u001b[0m\n\u001b[0;32m     29\u001b[0m         \u001b[1;32mreturn\u001b[0m \u001b[0mcards\u001b[0m\u001b[1;33m\u001b[0m\u001b[1;33m\u001b[0m\u001b[0m\n",
      "\u001b[1;31mAttributeError\u001b[0m: 'Deck' object has no attribute 'card'"
     ]
    }
   ],
   "source": [
    "d1._deal(333)"
   ]
  },
  {
   "cell_type": "code",
   "execution_count": 16,
   "metadata": {},
   "outputs": [
    {
     "ename": "SyntaxError",
     "evalue": "invalid syntax (<ipython-input-16-143f672b5921>, line 3)",
     "output_type": "error",
     "traceback": [
      "\u001b[1;36m  File \u001b[1;32m\"<ipython-input-16-143f672b5921>\"\u001b[1;36m, line \u001b[1;32m3\u001b[0m\n\u001b[1;33m    new_list=[[i for i in value] [j for j in suit]]\u001b[0m\n\u001b[1;37m                                      ^\u001b[0m\n\u001b[1;31mSyntaxError\u001b[0m\u001b[1;31m:\u001b[0m invalid syntax\n"
     ]
    }
   ],
   "source": [
    "value=[\"A\", \"2\", \"3\", \"4\", \"5\", \"6\", \"7\", \"8\", \"9\", \"10\", \"J\", \"Q\", \"K\"]\n",
    "suit=[\"Hearts\", \"Diamonds\", \"Clubs\", \"Spades\"]\n",
    "new_list=[[i for i in value] for j in suit]"
   ]
  },
  {
   "cell_type": "code",
   "execution_count": 12,
   "metadata": {},
   "outputs": [
    {
     "name": "stdout",
     "output_type": "stream",
     "text": [
      "[['A', '2', '3', '4', '5', '6', '7', '8', '9', '10', 'J', 'Q', 'K'], ['A', '2', '3', '4', '5', '6', '7', '8', '9', '10', 'J', 'Q', 'K'], ['A', '2', '3', '4', '5', '6', '7', '8', '9', '10', 'J', 'Q', 'K'], ['A', '2', '3', '4', '5', '6', '7', '8', '9', '10', 'J', 'Q', 'K']]\n"
     ]
    }
   ],
   "source": [
    "print(new_list)"
   ]
  },
  {
   "cell_type": "code",
   "execution_count": 56,
   "metadata": {},
   "outputs": [
    {
     "ename": "SyntaxError",
     "evalue": "invalid syntax (<ipython-input-56-dc2ab8aede26>, line 3)",
     "output_type": "error",
     "traceback": [
      "\u001b[1;36m  File \u001b[1;32m\"<ipython-input-56-dc2ab8aede26>\"\u001b[1;36m, line \u001b[1;32m3\u001b[0m\n\u001b[1;33m    raise ValueError \"All Cards have been dealt\"\u001b[0m\n\u001b[1;37m                                               ^\u001b[0m\n\u001b[1;31mSyntaxError\u001b[0m\u001b[1;31m:\u001b[0m invalid syntax\n"
     ]
    }
   ],
   "source": [
    "suits=[]\n",
    "if suits==[]:\n",
    "    raise ValueError \"All Cards have been dealt\"\n",
    "print('sds')"
   ]
  },
  {
   "cell_type": "code",
   "execution_count": 99,
   "metadata": {},
   "outputs": [
    {
     "data": {
      "text/plain": [
       "4"
      ]
     },
     "execution_count": 99,
     "metadata": {},
     "output_type": "execute_result"
    }
   ],
   "source": [
    "min(4,7)"
   ]
  },
  {
   "cell_type": "code",
   "execution_count": 109,
   "metadata": {},
   "outputs": [
    {
     "ename": "SyntaxError",
     "evalue": "invalid syntax (<ipython-input-109-5c1004352010>, line 2)",
     "output_type": "error",
     "traceback": [
      "\u001b[1;36m  File \u001b[1;32m\"<ipython-input-109-5c1004352010>\"\u001b[1;36m, line \u001b[1;32m2\u001b[0m\n\u001b[1;33m    hello=new[-:]\u001b[0m\n\u001b[1;37m               ^\u001b[0m\n\u001b[1;31mSyntaxError\u001b[0m\u001b[1;31m:\u001b[0m invalid syntax\n"
     ]
    }
   ],
   "source": [
    "new=[5,6,7,9]\n",
    "hello=new[-:]"
   ]
  },
  {
   "cell_type": "code",
   "execution_count": 107,
   "metadata": {},
   "outputs": [
    {
     "name": "stdout",
     "output_type": "stream",
     "text": [
      "[5, 6, 7, 9]\n"
     ]
    }
   ],
   "source": [
    "print(hello)"
   ]
  },
  {
   "cell_type": "code",
   "execution_count": null,
   "metadata": {},
   "outputs": [],
   "source": []
  }
 ],
 "metadata": {
  "kernelspec": {
   "display_name": "Python 3",
   "language": "python",
   "name": "python3"
  },
  "language_info": {
   "codemirror_mode": {
    "name": "ipython",
    "version": 3
   },
   "file_extension": ".py",
   "mimetype": "text/x-python",
   "name": "python",
   "nbconvert_exporter": "python",
   "pygments_lexer": "ipython3",
   "version": "3.7.2"
  }
 },
 "nbformat": 4,
 "nbformat_minor": 2
}
