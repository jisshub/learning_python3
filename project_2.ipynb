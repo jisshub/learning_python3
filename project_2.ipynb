{
 "cells": [
  {
   "cell_type": "code",
   "execution_count": 47,
   "metadata": {},
   "outputs": [
    {
     "name": "stdout",
     "output_type": "stream",
     "text": [
      "9.2\n"
     ]
    }
   ],
   "source": [
    "playlist={\"title\":\"patagonia bus\",\n",
    "          'author':'colt steele',\n",
    "          'songs':[{'title':'song1','artist':['blue'],'duration':3.5},\n",
    "                   {'title':'song2','artist':['red','djcat'],'duration':2.5},\n",
    "                   {'title':'song3','artist':['green'],'duration':3.2},\n",
    "          ]\n",
    "}\n",
    "#total_duration=playlist['songs'][0]['duration'] + playlist['songs'][1]['duration'] + playlist['songs'][2]['duration']\n",
    "total_duration=0\n",
    "for songs in playlist['songs']:\n",
    "    #print(songs['duration'])\n",
    "    total_duration+=songs['duration']\n",
    "print(total_duration)"
   ]
  },
  {
   "cell_type": "code",
   "execution_count": 40,
   "metadata": {},
   "outputs": [
    {
     "data": {
      "text/plain": [
       "9.2"
      ]
     },
     "execution_count": 40,
     "metadata": {},
     "output_type": "execute_result"
    }
   ],
   "source": [
    "total_duration"
   ]
  },
  {
   "cell_type": "code",
   "execution_count": 28,
   "metadata": {},
   "outputs": [
    {
     "data": {
      "text/plain": [
       "('mathijsde light', 'skbak', '2016-03-22', 4.55)"
      ]
     },
     "execution_count": 28,
     "metadata": {},
     "output_type": "execute_result"
    }
   ],
   "source": [
    "playlist[\"hello world\"]"
   ]
  },
  {
   "cell_type": "code",
   "execution_count": 38,
   "metadata": {},
   "outputs": [
    {
     "data": {
      "text/plain": [
       "9.2"
      ]
     },
     "execution_count": 38,
     "metadata": {},
     "output_type": "execute_result"
    }
   ],
   "source": [
    "playlist['songs'][0]['duration'] + playlist['songs'][1]['duration'] + playlist['songs'][2]['duration']"
   ]
  },
  {
   "cell_type": "code",
   "execution_count": null,
   "metadata": {},
   "outputs": [],
   "source": []
  }
 ],
 "metadata": {
  "kernelspec": {
   "display_name": "Python 3",
   "language": "python",
   "name": "python3"
  },
  "language_info": {
   "codemirror_mode": {
    "name": "ipython",
    "version": 3
   },
   "file_extension": ".py",
   "mimetype": "text/x-python",
   "name": "python",
   "nbconvert_exporter": "python",
   "pygments_lexer": "ipython3",
   "version": "3.7.1"
  }
 },
 "nbformat": 4,
 "nbformat_minor": 2
}
