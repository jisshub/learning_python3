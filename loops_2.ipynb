{
 "cells": [
  {
   "cell_type": "code",
   "execution_count": 1,
   "metadata": {},
   "outputs": [
    {
     "name": "stdout",
     "output_type": "stream",
     "text": [
      "h\n",
      "e\n",
      "l\n",
      "l\n",
      "o\n"
     ]
    }
   ],
   "source": [
    "for i in \"hello\":\n",
    "    print(i)"
   ]
  },
  {
   "cell_type": "code",
   "execution_count": 2,
   "metadata": {},
   "outputs": [
    {
     "name": "stdout",
     "output_type": "stream",
     "text": [
      "4\n",
      "5\n",
      "6\n"
     ]
    }
   ],
   "source": [
    "for i in [4,5,6]:\n",
    "    print(i)"
   ]
  },
  {
   "cell_type": "code",
   "execution_count": 4,
   "metadata": {},
   "outputs": [
    {
     "name": "stdout",
     "output_type": "stream",
     "text": [
      "6\n",
      "7\n",
      "8\n"
     ]
    }
   ],
   "source": [
    "for i in (6,7,8):\n",
    "    print(i)"
   ]
  },
  {
   "cell_type": "code",
   "execution_count": 5,
   "metadata": {},
   "outputs": [
    {
     "name": "stdout",
     "output_type": "stream",
     "text": [
      "5\n",
      "6\n",
      "7\n",
      "exceeds\n"
     ]
    }
   ],
   "source": [
    "for i in {5,6,7,7}:\n",
    "    print(i)\n",
    "else:\n",
    "    print(\"exceeds\")"
   ]
  },
  {
   "cell_type": "code",
   "execution_count": 6,
   "metadata": {},
   "outputs": [
    {
     "name": "stdout",
     "output_type": "stream",
     "text": [
      "a:4\n",
      "b:6\n",
      "c:7\n",
      "no more\n"
     ]
    }
   ],
   "source": [
    "new=dict(a=4,b=6,c=7)\n",
    "for k,v in new.items():\n",
    "    print(f\"{k}:{v}\")\n",
    "else:\n",
    "    print(\"no more\")"
   ]
  },
  {
   "cell_type": "code",
   "execution_count": 9,
   "metadata": {},
   "outputs": [
    {
     "name": "stdout",
     "output_type": "stream",
     "text": [
      "Enter response: asa\n",
      "Enter response: dfbsf\n",
      "Enter response: hello\n",
      "ends\n"
     ]
    }
   ],
   "source": [
    "response=None\n",
    "while response!='hello':\n",
    "    response=input('Enter response: ')\n",
    "else:\n",
    "    print('ends')"
   ]
  },
  {
   "cell_type": "code",
   "execution_count": 8,
   "metadata": {},
   "outputs": [
    {
     "data": {
      "text/plain": [
       "False"
      ]
     },
     "execution_count": 8,
     "metadata": {},
     "output_type": "execute_result"
    }
   ],
   "source": [
    "'hello'!='hello'"
   ]
  },
  {
   "cell_type": "code",
   "execution_count": 1,
   "metadata": {},
   "outputs": [
    {
     "name": "stdout",
     "output_type": "stream",
     "text": [
      "1\n",
      "2\n",
      "3\n",
      "4\n",
      "5\n",
      "6\n",
      "7\n",
      "8\n",
      "9\n",
      "ok\n"
     ]
    }
   ],
   "source": [
    "number=1\n",
    "while number<10:\n",
    "    print(number)\n",
    "    number+=1\n",
    "else:\n",
    "    print('ok')"
   ]
  },
  {
   "cell_type": "code",
   "execution_count": 2,
   "metadata": {},
   "outputs": [
    {
     "name": "stdout",
     "output_type": "stream",
     "text": [
      "what the password?: sdsd\n",
      "wrong\n",
      "what the password?: sdsd\n",
      "wrong\n",
      "what the password?: banana\n",
      "successfull\n"
     ]
    }
   ],
   "source": [
    "message=input('what the password?: ')\n",
    "while message!='banana':\n",
    "    print('wrong')\n",
    "    message=input('what the password?: ')\n",
    "print('successfull')"
   ]
  },
  {
   "cell_type": "code",
   "execution_count": 5,
   "metadata": {},
   "outputs": [
    {
     "name": "stdout",
     "output_type": "stream",
     "text": [
      "h\n",
      "a\n",
      "i\n",
      "stop\n",
      "h\n",
      "a\n",
      "i\n",
      "stop\n",
      "h\n",
      "a\n",
      "i\n",
      "stop\n",
      "TERMINATED\n"
     ]
    }
   ],
   "source": [
    "for x in range(3):\n",
    "    for char in 'hai':\n",
    "        print(char)\n",
    "    print(\"stop\")\n",
    "print(\"TERMINATED\")"
   ]
  },
  {
   "cell_type": "code",
   "execution_count": 6,
   "metadata": {},
   "outputs": [
    {
     "name": "stdout",
     "output_type": "stream",
     "text": [
      "3\n",
      "4\n",
      "5\n",
      "3\n",
      "4\n",
      "5\n",
      "TERMINATED\n"
     ]
    }
   ],
   "source": [
    "for i in range(2):\n",
    "    for each in [3,4,5]:\n",
    "        print(each)\n",
    "print(\"TERMINATED\")"
   ]
  },
  {
   "cell_type": "code",
   "execution_count": 9,
   "metadata": {},
   "outputs": [
    {
     "name": "stdout",
     "output_type": "stream",
     "text": [
      "3\n",
      "4\n",
      "6\n",
      "TERMINTED\n"
     ]
    }
   ],
   "source": [
    "numbers=[3,4,6]\n",
    "i=0\n",
    "while len(numbers)>i:\n",
    "    print(numbers[i])\n",
    "    i+=1\n",
    "else:\n",
    "    print(\"TERMINTED\")\n",
    "    "
   ]
  },
  {
   "cell_type": "code",
   "execution_count": null,
   "metadata": {},
   "outputs": [],
   "source": [
    "while True:\n",
    "    command=input(\"Type exit: \")\n",
    "    if command=='exit':\n",
    "        break"
   ]
  },
  {
   "cell_type": "code",
   "execution_count": 11,
   "metadata": {},
   "outputs": [
    {
     "name": "stdout",
     "output_type": "stream",
     "text": [
      "sorry\n"
     ]
    }
   ],
   "source": [
    "while False:\n",
    "    hello=input()\n",
    "print(\"sorry\")"
   ]
  },
  {
   "cell_type": "code",
   "execution_count": 5,
   "metadata": {},
   "outputs": [
    {
     "name": "stdout",
     "output_type": "stream",
     "text": [
      "Enter number2323\n",
      "Enter number100\n"
     ]
    }
   ],
   "source": [
    "while True:\n",
    "    number=input(\"Enter number\")\n",
    "    number=int(number)\n",
    "    if number ==100:\n",
    "        break"
   ]
  },
  {
   "cell_type": "code",
   "execution_count": 8,
   "metadata": {},
   "outputs": [
    {
     "name": "stdout",
     "output_type": "stream",
     "text": [
      "1\n",
      "2\n",
      "3\n"
     ]
    }
   ],
   "source": [
    "for i in range(1,6):\n",
    "    print(i)\n",
    "    if i == 3:\n",
    "        break"
   ]
  },
  {
   "cell_type": "code",
   "execution_count": 9,
   "metadata": {},
   "outputs": [
    {
     "name": "stdout",
     "output_type": "stream",
     "text": [
      "h\n",
      "e\n",
      "l\n"
     ]
    }
   ],
   "source": [
    "for char in 'hello':\n",
    "    print(char)\n",
    "    if char=='l':\n",
    "        break"
   ]
  },
  {
   "cell_type": "code",
   "execution_count": null,
   "metadata": {},
   "outputs": [],
   "source": []
  }
 ],
 "metadata": {
  "kernelspec": {
   "display_name": "Python 3",
   "language": "python",
   "name": "python3"
  },
  "language_info": {
   "codemirror_mode": {
    "name": "ipython",
    "version": 3
   },
   "file_extension": ".py",
   "mimetype": "text/x-python",
   "name": "python",
   "nbconvert_exporter": "python",
   "pygments_lexer": "ipython3",
   "version": "3.7.1"
  }
 },
 "nbformat": 4,
 "nbformat_minor": 2
}
