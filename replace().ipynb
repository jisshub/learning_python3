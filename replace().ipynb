{
 "cells": [
  {
   "cell_type": "code",
   "execution_count": 1,
   "metadata": {},
   "outputs": [],
   "source": [
    "#replace() is an inbuilt function in Python programming language\n",
    "#that returns a copy of the string where all occurrences of a substring is replaced with another substring."
   ]
  },
  {
   "cell_type": "markdown",
   "metadata": {},
   "source": [
    "Syntax :\n",
    "\n",
    "string.replace(old, new, count)"
   ]
  },
  {
   "cell_type": "raw",
   "metadata": {},
   "source": [
    "old - old substring you want to replace\n",
    "new - new substring which would replace the old substring\n",
    "count (optional) - the number of times you want to replace the old substring with the new substring"
   ]
  },
  {
   "cell_type": "code",
   "execution_count": 5,
   "metadata": {},
   "outputs": [
    {
     "name": "stdout",
     "output_type": "stream",
     "text": [
      "jacob thomas\n"
     ]
    }
   ],
   "source": [
    "data='jissmon jose'\n",
    "new=data.replace(data,'jacob thomas')\n",
    "print(new)"
   ]
  },
  {
   "cell_type": "code",
   "execution_count": 6,
   "metadata": {},
   "outputs": [],
   "source": [
    "#can igonre all whitespaces in  a string"
   ]
  },
  {
   "cell_type": "code",
   "execution_count": 10,
   "metadata": {},
   "outputs": [
    {
     "name": "stdout",
     "output_type": "stream",
     "text": [
      "jissmonjose\n"
     ]
    }
   ],
   "source": [
    "data='jissmon jose'\n",
    "new=data.replace(' ','')\n",
    "print(new)"
   ]
  },
  {
   "cell_type": "code",
   "execution_count": null,
   "metadata": {},
   "outputs": [],
   "source": []
  }
 ],
 "metadata": {
  "kernelspec": {
   "display_name": "Python 3",
   "language": "python",
   "name": "python3"
  },
  "language_info": {
   "codemirror_mode": {
    "name": "ipython",
    "version": 3
   },
   "file_extension": ".py",
   "mimetype": "text/x-python",
   "name": "python",
   "nbconvert_exporter": "python",
   "pygments_lexer": "ipython3",
   "version": "3.7.1"
  }
 },
 "nbformat": 4,
 "nbformat_minor": 2
}
