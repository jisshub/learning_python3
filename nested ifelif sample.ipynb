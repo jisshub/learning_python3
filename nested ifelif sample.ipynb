{
 "cells": [
  {
   "cell_type": "code",
   "execution_count": 1,
   "metadata": {},
   "outputs": [
    {
     "name": "stdout",
     "output_type": "stream",
     "text": [
      "Enter your age: \n",
      "Please Enter Yor Age!\n"
     ]
    }
   ],
   "source": [
    "age=input(\"Enter your age: \")\n",
    "if age:#means if age have any value, it is true so below code executes\n",
    "        #if we input a value for age variable,below code runs otherwise else stmt runs.\n",
    "    age=int(age)\n",
    "    if age>=18 and age<=21:\n",
    "        print(\"Wear Wristband\")\n",
    "    elif age>21:\n",
    "        print(\"Drink,Normal Entry\")\n",
    "    else:\n",
    "        print(\"Too Young\")\n",
    "else:\n",
    "    print(\"Please Enter Yor Age!\")"
   ]
  },
  {
   "cell_type": "code",
   "execution_count": 5,
   "metadata": {},
   "outputs": [
    {
     "ename": "NameError",
     "evalue": "name 'value' is not defined",
     "output_type": "error",
     "traceback": [
      "\u001b[1;31m---------------------------------------------------------------------------\u001b[0m",
      "\u001b[1;31mNameError\u001b[0m                                 Traceback (most recent call last)",
      "\u001b[1;32m<ipython-input-5-bfc98a2c5f4a>\u001b[0m in \u001b[0;36m<module>\u001b[1;34m\u001b[0m\n\u001b[1;32m----> 1\u001b[1;33m \u001b[1;32mif\u001b[0m \u001b[0mvalue\u001b[0m\u001b[1;33m:\u001b[0m\u001b[1;33m\u001b[0m\u001b[1;33m\u001b[0m\u001b[0m\n\u001b[0m\u001b[0;32m      2\u001b[0m     \u001b[0mprint\u001b[0m\u001b[1;33m(\u001b[0m\u001b[1;34m\"xxx\"\u001b[0m\u001b[1;33m)\u001b[0m\u001b[1;33m\u001b[0m\u001b[1;33m\u001b[0m\u001b[0m\n",
      "\u001b[1;31mNameError\u001b[0m: name 'value' is not defined"
     ]
    }
   ],
   "source": [
    "if value:\n",
    "    print(\"xxx\")"
   ]
  },
  {
   "cell_type": "markdown",
   "metadata": {},
   "source": [
    "# POSITIVE OR NEGATIVE USINF IFELIF"
   ]
  },
  {
   "cell_type": "code",
   "execution_count": null,
   "metadata": {},
   "outputs": [],
   "source": [
    "from random import randint\n",
    "x = randint(-100, 100)\n",
    "while x == 0:  # make sure x isn't zero\n",
    "    x = randint(-100, 100)\n",
    "y = randint(-100, 100)\n",
    "while y == 0:  # make sure y isn't zero\n",
    "    y = randint(-100, 100)\n",
    "# NO TOUCHING ======================================\n",
    " \n",
    "# Don't change the print statements so the tests can pass!\n",
    "# YOUR CODE GOES HERE vvvvvvvvvvvvvvvvvvvvvvvvvvvvvvv\n",
    " \n",
    "if x > 0 and y > 0:\n",
    "    print(\"both positive\")\n",
    "elif x < 0 and y < 0:\n",
    "    print(\"both negative\")\n",
    "elif x > 0 and y < 0:\n",
    "    print(\"x is positive and y is negative\")\n",
    "else:\n",
    "    print(\"y is positive and x is negative\")"
   ]
  }
 ],
 "metadata": {
  "kernelspec": {
   "display_name": "Python 3",
   "language": "python",
   "name": "python3"
  },
  "language_info": {
   "codemirror_mode": {
    "name": "ipython",
    "version": 3
   },
   "file_extension": ".py",
   "mimetype": "text/x-python",
   "name": "python",
   "nbconvert_exporter": "python",
   "pygments_lexer": "ipython3",
   "version": "3.7.1"
  }
 },
 "nbformat": 4,
 "nbformat_minor": 2
}
