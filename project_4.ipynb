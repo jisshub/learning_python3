{
 "cells": [
  {
   "cell_type": "code",
   "execution_count": 3,
   "metadata": {},
   "outputs": [
    {
     "name": "stdout",
     "output_type": "stream",
     "text": [
      "pick a number: 5\n",
      "it's too high! try again\n",
      "pick a number: 3\n",
      " u won\n",
      "play again(y/n): y\n",
      "pick a number: 6\n",
      "it's too low! try again \n",
      "pick a number: 3\n",
      "it's too low! try again \n",
      "pick a number: 5\n",
      "it's too low! try again \n",
      "pick a number: 3\n",
      "it's too low! try again \n",
      "pick a number: 2\n",
      "it's too low! try again \n",
      "pick a number: 1\n",
      "it's too low! try again \n",
      "pick a number: 8\n",
      "it's too low! try again \n",
      "pick a number: 9\n",
      "it's too low! try again \n",
      "pick a number: 10\n",
      " u won\n",
      "play again(y/n): n\n",
      "ok\n"
     ]
    }
   ],
   "source": [
    "from random import randint\n",
    "comp_guess=randint(1,10)\n",
    "ur_choice=None\n",
    "while True:   \n",
    "    ur_choice=int(input(\"pick a number: \"))\n",
    "    if comp_guess<ur_choice:\n",
    "        print(\"it's too high! try again\")\n",
    "        #ur_choice=int(input(\"Enter your choice: \"))\n",
    "    elif comp_guess>ur_choice:\n",
    "        print(\"it's too low! try again \")\n",
    "        #ur_choice=int(input(\"Enter your choice: \"))\n",
    "    else:\n",
    "        print(\" u won\")\n",
    "        again=input(\"play again(y/n): \")\n",
    "        if again==\"y\":\n",
    "             comp_guess=randint(1,10)\n",
    "        else:\n",
    "            print('ok')\n",
    "            break"
   ]
  },
  {
   "cell_type": "code",
   "execution_count": 4,
   "metadata": {},
   "outputs": [
    {
     "data": {
      "text/plain": [
       "6"
      ]
     },
     "execution_count": 4,
     "metadata": {},
     "output_type": "execute_result"
    }
   ],
   "source": [
    "comp_guess"
   ]
  },
  {
   "cell_type": "code",
   "execution_count": null,
   "metadata": {},
   "outputs": [],
   "source": []
  }
 ],
 "metadata": {
  "kernelspec": {
   "display_name": "Python 3",
   "language": "python",
   "name": "python3"
  },
  "language_info": {
   "codemirror_mode": {
    "name": "ipython",
    "version": 3
   },
   "file_extension": ".py",
   "mimetype": "text/x-python",
   "name": "python",
   "nbconvert_exporter": "python",
   "pygments_lexer": "ipython3",
   "version": "3.7.1"
  }
 },
 "nbformat": 4,
 "nbformat_minor": 2
}
