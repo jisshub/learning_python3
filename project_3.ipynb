{
 "cells": [
  {
   "cell_type": "code",
   "execution_count": 2,
   "metadata": {},
   "outputs": [
    {
     "name": "stdout",
     "output_type": "stream",
     "text": [
      "***Rock***\n",
      "***Paper***\n",
      "***Scissors***\n",
      "Enter player1's choice: sad\n",
      "Enter player2's choice: dsds\n",
      "Wrong Input\n"
     ]
    }
   ],
   "source": [
    "print('***'\"Rock\"'***\\n***'\"Paper\"'***\\n***'\"Scissors\"'***')\n",
    "player1_choice=input(\"Enter player1's choice: \")\n",
    "player2_choice=input(\"Enter player2's choice: \")\n",
    "if player1_choice=='rock' and player2_choice=='scissors':\n",
    "    print('player1 wins')\n",
    "elif player1_choice=='rock' and player2_choice=='paper':\n",
    "    print('player2 wins')\n",
    "elif player1_choice=='scissors' and player2_choice=='paper':\n",
    "    print('player1 wins')\n",
    "elif player1_choice=='scissors' and player2_choice=='rock':\n",
    "    print('player2 wins')\n",
    "elif player1_choice=='paper' and player2_choice=='rock':\n",
    "    print('player2 wins')\n",
    "elif player1_choice=='paper' and player2_choice=='scissors':\n",
    "    print('player1 wins')\n",
    "elif player1_choice==player2_choice:\n",
    "    print('draw') \n",
    "else:\n",
    "    print(\"Wrong Input\")"
   ]
  },
  {
   "cell_type": "code",
   "execution_count": 7,
   "metadata": {},
   "outputs": [
    {
     "name": "stdout",
     "output_type": "stream",
     "text": [
      "***Rock***\n",
      "***Paper***\n",
      "***Scissors***\n",
      "Enter player1's choice: 555\n",
      "***NO CHEATING\n",
      "***NO CHEATING\n",
      "***NO CHEATING\n",
      "***NO CHEATING\n",
      "***NO CHEATING\n",
      "***NO CHEATING\n",
      "***NO CHEATING\n",
      "***NO CHEATING\n",
      "***NO CHEATING\n",
      "***NO CHEATING\n",
      "***NO CHEATING\n",
      "***NO CHEATING\n",
      "***NO CHEATING\n",
      "***NO CHEATING\n",
      "***NO CHEATING\n",
      "***NO CHEATING\n",
      "***NO CHEATING\n",
      "***NO CHEATING\n",
      "***NO CHEATING\n",
      "***NO CHEATING\n",
      "\n",
      "Enter player2's choice: 444\n",
      "Something wrong\n"
     ]
    }
   ],
   "source": [
    "print('***'\"Rock\"'***\\n***'\"Paper\"'***\\n***'\"Scissors\"'***')\n",
    "player1=input(\"Enter player1's choice: \")\n",
    "print('***NO CHEATING\\n'*20)\n",
    "player2=input(\"Enter player2's choice: \")\n",
    "if player1==player2:\n",
    "    print(\"it's a tie\")\n",
    "if player1==\"rock\":\n",
    "    if player2==\"scissors\":\n",
    "        print(\"player1 wins!\")\n",
    "    elif player2==\"paper\":\n",
    "        print(\"player2 wins\")\n",
    "elif player1=='scissors':\n",
    "    if player2=='rock':\n",
    "        print(\"player2 wins\")\n",
    "    elif player2==\"paper\":\n",
    "        print(\"player1 wins\")\n",
    "elif player1==\"paper\":\n",
    "    if player2==\"rock\":\n",
    "        print('player1 wins')\n",
    "    elif player2==\"scissors\":\n",
    "        print(\"player2 wins\")\n",
    "else:\n",
    "    print(\"Something wrong\")\n",
    "    "
   ]
  },
  {
   "cell_type": "code",
   "execution_count": null,
   "metadata": {},
   "outputs": [],
   "source": [
    "#playing against my computer\n",
    "from random import randint\n",
    "#new=randint(2,5)\n",
    "#print(new)\n",
    "player=input(\"Enter player1 choice: \")\n",
    "comp_random=randint(1,3)\n",
    "if comp_random==1:\n",
    "    computer='rock'\n",
    "elif comp_random==2:\n",
    "    computer='paper'\n",
    "else:\n",
    "    computer='scissors'\n",
    "print(f\"Computer's choice: {computer}\")\n",
    "if player==computer:\n",
    "    #print('its a tie')\n",
    "    if player=='rock':\n",
    "        if computer=='paper':\n",
    "            print('computer wins')\n",
    "        elif computer=='scissors':\n",
    "            print('player wins')\n",
    "    elif player=='scissors':\n",
    "        if computer=='rock':\n",
    "            print('computer wins')\n",
    "        elif computer=='paper':\n",
    "            print('player wins')\n",
    "    elif player=='paper':\n",
    "        if computer=='rock':\n",
    "            print('player wins')\n",
    "        elif computer=='scissors':\n",
    "            print('computer wins')\n",
    "else:\n",
    "    print('wrong input')\n"
   ]
  },
  {
   "cell_type": "code",
   "execution_count": 1,
   "metadata": {},
   "outputs": [],
   "source": [
    "choices={1:\"rock\",2:\"paper\",3:\"scissors\"}"
   ]
  },
  {
   "cell_type": "code",
   "execution_count": 2,
   "metadata": {},
   "outputs": [
    {
     "data": {
      "text/plain": [
       "{1: 'rock', 2: 'paper', 3: 'scissors'}"
      ]
     },
     "execution_count": 2,
     "metadata": {},
     "output_type": "execute_result"
    }
   ],
   "source": [
    "choices"
   ]
  },
  {
   "cell_type": "code",
   "execution_count": 3,
   "metadata": {},
   "outputs": [
    {
     "data": {
      "text/plain": [
       "'rock'"
      ]
     },
     "execution_count": 3,
     "metadata": {},
     "output_type": "execute_result"
    }
   ],
   "source": [
    "choices[1]"
   ]
  },
  {
   "cell_type": "code",
   "execution_count": 14,
   "metadata": {},
   "outputs": [
    {
     "ename": "KeyError",
     "evalue": "'computer'",
     "output_type": "error",
     "traceback": [
      "\u001b[1;31m---------------------------------------------------------------------------\u001b[0m",
      "\u001b[1;31mKeyError\u001b[0m                                  Traceback (most recent call last)",
      "\u001b[1;32m<ipython-input-14-8ca95e6eb2bb>\u001b[0m in \u001b[0;36m<module>\u001b[1;34m\u001b[0m\n\u001b[0;32m      2\u001b[0m \u001b[0mcomputer\u001b[0m\u001b[1;33m=\u001b[0m\u001b[0mrandint\u001b[0m\u001b[1;33m(\u001b[0m\u001b[1;36m1\u001b[0m\u001b[1;33m,\u001b[0m\u001b[1;36m3\u001b[0m\u001b[1;33m)\u001b[0m\u001b[1;33m\u001b[0m\u001b[1;33m\u001b[0m\u001b[0m\n\u001b[0;32m      3\u001b[0m \u001b[0mchoices\u001b[0m\u001b[1;33m=\u001b[0m\u001b[1;33m{\u001b[0m\u001b[1;34m\"rock\"\u001b[0m\u001b[1;33m:\u001b[0m\u001b[1;36m1\u001b[0m\u001b[1;33m,\u001b[0m\u001b[1;34m\"paper\"\u001b[0m\u001b[1;33m:\u001b[0m\u001b[1;36m2\u001b[0m\u001b[1;33m,\u001b[0m\u001b[1;34m\"scissors\"\u001b[0m\u001b[1;33m:\u001b[0m\u001b[1;36m3\u001b[0m\u001b[1;33m}\u001b[0m\u001b[1;33m\u001b[0m\u001b[1;33m\u001b[0m\u001b[0m\n\u001b[1;32m----> 4\u001b[1;33m \u001b[0mnew_data\u001b[0m\u001b[1;33m=\u001b[0m\u001b[0mchoices\u001b[0m\u001b[1;33m[\u001b[0m\u001b[1;34m'computer'\u001b[0m\u001b[1;33m]\u001b[0m\u001b[1;33m\u001b[0m\u001b[1;33m\u001b[0m\u001b[0m\n\u001b[0m",
      "\u001b[1;31mKeyError\u001b[0m: 'computer'"
     ]
    }
   ],
   "source": [
    "from random import randint\n",
    "computer=randint(1,3)\n",
    "choices={\"rock\":1,\"paper\":2,\"scissors\":3}\n",
    "#new_data=choices['computer']\n"
   ]
  },
  {
   "cell_type": "code",
   "execution_count": 12,
   "metadata": {},
   "outputs": [
    {
     "name": "stdout",
     "output_type": "stream",
     "text": [
      "paper\n"
     ]
    }
   ],
   "source": [
    "print(new_data)"
   ]
  },
  {
   "cell_type": "code",
   "execution_count": 16,
   "metadata": {},
   "outputs": [
    {
     "data": {
      "text/plain": [
       "1"
      ]
     },
     "execution_count": 16,
     "metadata": {},
     "output_type": "execute_result"
    }
   ],
   "source": [
    "choices['rock']"
   ]
  },
  {
   "cell_type": "code",
   "execution_count": 20,
   "metadata": {},
   "outputs": [],
   "source": [
    "new=choices.values()\n"
   ]
  },
  {
   "cell_type": "code",
   "execution_count": 21,
   "metadata": {},
   "outputs": [
    {
     "ename": "TypeError",
     "evalue": "'dict_values' object does not support indexing",
     "output_type": "error",
     "traceback": [
      "\u001b[1;31m---------------------------------------------------------------------------\u001b[0m",
      "\u001b[1;31mTypeError\u001b[0m                                 Traceback (most recent call last)",
      "\u001b[1;32m<ipython-input-21-8a95bc8f2005>\u001b[0m in \u001b[0;36m<module>\u001b[1;34m\u001b[0m\n\u001b[1;32m----> 1\u001b[1;33m \u001b[0mnew\u001b[0m\u001b[1;33m[\u001b[0m\u001b[1;36m1\u001b[0m\u001b[1;33m]\u001b[0m\u001b[1;33m\u001b[0m\u001b[1;33m\u001b[0m\u001b[0m\n\u001b[0m",
      "\u001b[1;31mTypeError\u001b[0m: 'dict_values' object does not support indexing"
     ]
    }
   ],
   "source": [
    "new[1]"
   ]
  },
  {
   "cell_type": "code",
   "execution_count": 7,
   "metadata": {},
   "outputs": [
    {
     "name": "stdout",
     "output_type": "stream",
     "text": [
      "Enter your name: jiss\n",
      "Enter your name: ajad\n",
      "Enter your name: jissmon\n",
      "matches\n"
     ]
    }
   ],
   "source": [
    "name =input(\"Enter your name: \")\n",
    "while name!='jissmon':\n",
    "    name =input(\"Enter your name: \")\n",
    "print(\"matches\")    "
   ]
  },
  {
   "cell_type": "code",
   "execution_count": 1,
   "metadata": {},
   "outputs": [],
   "source": [
    "#playing against my computer(inclusing loops)\n",
    "from random import randint\n",
    "#new=randint(2,5)\n",
    "#print(new)\n",
    "player_wins=0\n",
    "computer_wins=0\n",
    "while player_wins>2 and player_wins<4:\n",
    "    \n",
    "    print(f\"Player Score:{player_wins} and Compuer Score:{computer_wins}\")\n",
    "    print('***'\"Rock\"'***\\n***'\"Paper\"'***\\n***'\"Scissors\"'***')\n",
    "    player=input(\"Enter player1 choice: \").lower()\n",
    "    comp_random=randint(1,3)\n",
    "    if comp_random==1:\n",
    "        computer='rock'\n",
    "    elif comp_random==2:\n",
    "        computer='paper'\n",
    "    else:\n",
    "        computer='scissors'\n",
    "    print(f\"Computer's choice: {computer}\")\n",
    "    if player==computer:\n",
    "        print('its a tie')\n",
    "    if player=='rock':\n",
    "        if computer=='paper':\n",
    "            print('computer wins')\n",
    "            computer_wins+=1\n",
    "        elif computer=='scissors':\n",
    "            print('player wins')\n",
    "            player_wins+=1\n",
    "    elif player=='scissors':\n",
    "        if computer=='rock':\n",
    "            print('computer wins')\n",
    "            computer_wins+=1\n",
    "        elif computer=='paper':\n",
    "            print('player wins')\n",
    "            player_wins+=1\n",
    "    elif player=='paper':\n",
    "        if computer=='rock':\n",
    "            print('player wins')\n",
    "            player_wins+=1\n",
    "        elif computer=='scissors':\n",
    "            print('computer wins')\n",
    "            computer_wins+=1\n",
    "    else:\n",
    "        print('wrong input')\n",
    "    "
   ]
  },
  {
   "cell_type": "code",
   "execution_count": null,
   "metadata": {},
   "outputs": [],
   "source": [
    "num1=int(input())\n",
    "while num1>5:\n",
    "    num1=int(input())\n",
    "print(\"Ok!\")"
   ]
  },
  {
   "cell_type": "code",
   "execution_count": 12,
   "metadata": {},
   "outputs": [
    {
     "name": "stdout",
     "output_type": "stream",
     "text": [
      "8\n",
      "7\n",
      "ok\n"
     ]
    }
   ],
   "source": [
    "num1=int(input())\n",
    "num2=int(input())\n",
    "if num1>5 and num2<15:\n",
    "    print(\"ok\")\n",
    "else:\n",
    "    print(\"sorry\")"
   ]
  },
  {
   "cell_type": "code",
   "execution_count": null,
   "metadata": {},
   "outputs": [],
   "source": [
    "#playing against my computer(inclusing loops)\n",
    "from random import randint\n",
    "#new=randint(2,5)\n",
    "#print(new)\n",
    "player_wins=0\n",
    "computer_wins=0\n",
    "while player_wins<2 and computer_wins<2:\n",
    "    \n",
    "    print(f\"Player Score:{player_wins} and Compuer Score:{computer_wins}\")\n",
    "    print('***'\"Rock\"'***\\n***'\"Paper\"'***\\n***'\"Scissors\"'***')\n",
    "    player=input(\"Enter player1 choice: \").lower()\n",
    "    comp_random=randint(1,3)\n",
    "    if comp_random==1:\n",
    "        computer='rock'\n",
    "    elif comp_random==2:\n",
    "        computer='paper'\n",
    "    else:\n",
    "        computer='scissors'\n",
    "    print(f\"Computer's choice: {computer}\")\n",
    "    if player==computer:\n",
    "        print('its a tie')\n",
    "    if player=='rock':\n",
    "        if computer=='paper':\n",
    "            print('computer wins')\n",
    "            computer_wins+=1\n",
    "        elif computer=='scissors':\n",
    "            print('player wins')\n",
    "            player_wins+=1\n",
    "    elif player=='scissors':\n",
    "        if computer=='rock':\n",
    "            print('computer wins')\n",
    "            computer_wins+=1\n",
    "        elif computer=='paper':\n",
    "            print('player wins')\n",
    "            player_wins+=1\n",
    "    elif player=='paper':\n",
    "        if computer=='rock':\n",
    "            print('player wins')\n",
    "            player_wins+=1\n",
    "        elif computer=='scissors':\n",
    "            print('computer wins')\n",
    "            computer_wins+=1\n",
    "    else:\n",
    "        print('wrong input')\n",
    "print(\"Game Ends\")\n",
    "    "
   ]
  },
  {
   "cell_type": "code",
   "execution_count": null,
   "metadata": {},
   "outputs": [],
   "source": []
  },
  {
   "cell_type": "code",
   "execution_count": null,
   "metadata": {},
   "outputs": [],
   "source": []
  }
 ],
 "metadata": {
  "kernelspec": {
   "display_name": "Python 3",
   "language": "python",
   "name": "python3"
  },
  "language_info": {
   "codemirror_mode": {
    "name": "ipython",
    "version": 3
   },
   "file_extension": ".py",
   "mimetype": "text/x-python",
   "name": "python",
   "nbconvert_exporter": "python",
   "pygments_lexer": "ipython3",
   "version": "3.7.1"
  }
 },
 "nbformat": 4,
 "nbformat_minor": 2
}
